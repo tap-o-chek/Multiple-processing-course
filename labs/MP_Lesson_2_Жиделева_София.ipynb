{
  "cells": [
    {
      "cell_type": "markdown",
      "metadata": {
        "id": "view-in-github",
        "colab_type": "text"
      },
      "source": [
        "<a href=\"https://colab.research.google.com/github/tap-o-chek/Multiple-processing-course/blob/main/labs/MP_Lesson_2_%D0%96%D0%B8%D0%B4%D0%B5%D0%BB%D0%B5%D0%B2%D0%B0_%D0%A1%D0%BE%D1%84%D0%B8%D1%8F.ipynb\" target=\"_parent\"><img src=\"https://colab.research.google.com/assets/colab-badge.svg\" alt=\"Open In Colab\"/></a>"
      ]
    },
    {
      "cell_type": "markdown",
      "metadata": {
        "id": "CwLUwf40bp0N"
      },
      "source": [
        "# **Упражнение 1.** Запустите код. Попробуйте объяснить, почему LIST - пуст."
      ]
    },
    {
      "cell_type": "code",
      "execution_count": null,
      "metadata": {
        "colab": {
          "base_uri": "https://localhost:8080/"
        },
        "id": "SqJJ3y7iPq41",
        "outputId": "3aaccfbf-245d-4cc8-d6c5-5ec556b9b91a"
      },
      "outputs": [
        {
          "output_type": "stream",
          "name": "stdout",
          "text": [
            "[]\n"
          ]
        }
      ],
      "source": [
        "import multiprocessing\n",
        "\n",
        "def worker():\n",
        "    LIST.append('item')\n",
        "\n",
        "LIST = []\n",
        "\n",
        "if __name__ == \"__main__\":\n",
        "    processes = [\n",
        "        multiprocessing.Process(target=worker)\n",
        "        for _ in range(5)\n",
        "    ]\n",
        "    for p in processes:\n",
        "        p.start()\n",
        "    for p in processes:\n",
        "        p.join()\n",
        "    print(LIST)"
      ]
    },
    {
      "cell_type": "markdown",
      "source": [
        "Объяснение: потому что процессы мультипроцессинга работают каждый в своей ячейке памяти, поэтому и добавление элементов в лист идёт в различных ячейках, а так как мы выводим не результат выполнения конкретного потока, а обычный лист, то он выводится пустым, ибо с ним по факту и не взаимодействовали"
      ],
      "metadata": {
        "id": "mbzP8O84_n1Y"
      }
    },
    {
      "cell_type": "markdown",
      "metadata": {
        "id": "xAmgzVjNb5tx"
      },
      "source": [
        "# **Упражнение 2.** Запустите код. Какая проблема здесь возникает? Исправьте её."
      ]
    },
    {
      "cell_type": "code",
      "execution_count": null,
      "metadata": {
        "colab": {
          "base_uri": "https://localhost:8080/"
        },
        "id": "LzTaS___btJO",
        "outputId": "0a9bcd40-0fe9-40a5-e5bc-127b82c3f8ad"
      },
      "outputs": [
        {
          "output_type": "stream",
          "name": "stdout",
          "text": [
            "thread t1 about to lock l1\n",
            "thread t1 has lock l1\n",
            "thread t2 about to lock l2\n",
            "thread t1 about to lock l2\n",
            "thread t1\n",
            "thread t2 has lock l2\n",
            "thread t2 about to lock l1\n",
            "thread t2\n"
          ]
        }
      ],
      "source": [
        "import threading\n",
        "import time\n",
        "\n",
        "l1 = threading.Lock()\n",
        "l2 = threading.Lock()\n",
        "\n",
        "def f1(name):\n",
        "    print('thread',name,'about to lock l1')\n",
        "    with l1:\n",
        "        print('thread',name,'has lock l1')\n",
        "        time.sleep(0.3)\n",
        "        print('thread',name,'about to lock l2')\n",
        "        with l2:\n",
        "            print('thread',name)\n",
        "\n",
        "def f2(name):\n",
        "    print('thread',name,'about to lock l2')\n",
        "    with l1:\n",
        "        print('thread',name,'has lock l2')\n",
        "        time.sleep(0.3)\n",
        "        print('thread',name,'about to lock l1')\n",
        "        with l2:\n",
        "            print('thread',name)\n",
        "\n",
        "if __name__ == '__main__':\n",
        "    t1=threading.Thread(target=f1, args=['t1',])\n",
        "    t2=threading.Thread(target=f2, args=['t2',])\n",
        "\n",
        "    t1.start()\n",
        "    t2.start()\n",
        "\n",
        "    t1.join()\n",
        "    t2.join()"
      ]
    },
    {
      "cell_type": "markdown",
      "source": [
        "Проблема потому что каждая функция пытается захватить оба замка в разном порядке, что приводит к возможности взаимной блокировки , когда одна функция ждет освобождения замка, удерживаемого другой функцией, а вторая функция ждет освобождения замка, удерживаемого первой функцией. Можно изменить порядок, в котором замки захватываются в функциях так, чтобы обе функции захватывали замки в одном и том же порядке."
      ],
      "metadata": {
        "id": "6Zi64B9bylJk"
      }
    },
    {
      "cell_type": "code",
      "source": [
        "import threading\n",
        "import time\n",
        "\n",
        "l1 = threading.Lock()\n",
        "l2 = threading.Lock()\n",
        "\n",
        "def f1(name):\n",
        "    print('thread',name,'about to lock l1')\n",
        "    with l1:\n",
        "        print('thread',name,'has lock l1')\n",
        "        time.sleep(0.3)\n",
        "        print('thread',name,'about to lock l2')\n",
        "    with l2:\n",
        "        print('thread',name)\n",
        "\n",
        "def f2(name):\n",
        "    print('thread',name,'about to lock l2')\n",
        "    with l2:\n",
        "        print('thread',name,'has lock l2')\n",
        "        time.sleep(0.3)\n",
        "        print('thread',name,'about to lock l1')\n",
        "    with l1:\n",
        "        print('thread',name)\n",
        "\n",
        "if __name__ == '__main__':\n",
        "    t1=threading.Thread(target=f1, args=['t1',])\n",
        "    t2=threading.Thread(target=f2, args=['t2',])\n",
        "\n",
        "    t1.start()\n",
        "    t2.start()\n",
        "\n",
        "    t1.join()\n",
        "    t2.join()\n"
      ],
      "metadata": {
        "id": "x21R406cycXt",
        "outputId": "6c8f6cee-8d11-460e-c36c-3749c27e349e",
        "colab": {
          "base_uri": "https://localhost:8080/"
        }
      },
      "execution_count": null,
      "outputs": [
        {
          "output_type": "stream",
          "name": "stdout",
          "text": [
            "thread t1 about to lock l1\n",
            "thread t1 has lock l1\n",
            "thread t2 about to lock l2\n",
            "thread t2 has lock l2\n",
            "thread t1 about to lock l2\n",
            "thread t2 about to lock l1\n",
            "thread t2\n",
            "thread t1\n"
          ]
        }
      ]
    },
    {
      "cell_type": "markdown",
      "source": [
        "#**Упражнение 3.**"
      ],
      "metadata": {
        "id": "jai1HEpsLXeq"
      }
    },
    {
      "cell_type": "markdown",
      "metadata": {
        "id": "NmIoTLzBc5NF"
      },
      "source": [
        "**Упражнение 3.** Вам необходимо вычислить значение функции f = x**2 + x * 2 + 10 * x для различных значений аргументов (10 случайных чисел).\n",
        "\n",
        "1. Сделайте программу без использования потоков/процессов и измерьте время.\n",
        "\n",
        "2. Разбейте задачу на несколько потоков (отдельный поток для каждого аргумента и отдельный поток для каждого слагаемоего функции). Запустите программу. Измерьте время.\n",
        "\n",
        "3. Разбейте задачу на несколько процессов (отдельный процесс для каждого аргумента и отдельный процесс для каждого слагаемоего функции). Запустите программу. Измерьте время.\n",
        "\n",
        "Для синхронизации можно использовать барьеры.\n",
        "\n",
        "Объясните полученные результаты."
      ]
    },
    {
      "cell_type": "code",
      "source": [
        "#Без потоков\n",
        "import time\n",
        "import random\n",
        "\n",
        "def f(x):\n",
        "    return x**2 + x * 2 + 10 * x\n",
        "\n",
        "def main():\n",
        "    start_time = time.time()\n",
        "    values = [random.randint(1, 100) for _ in range(10)]\n",
        "    results = [f(x) for x in values]\n",
        "    end_time = time.time()\n",
        "    print(\"Results without concurrency:\", results)\n",
        "    print(\"Time taken without concurrency:\", end_time - start_time, \"seconds\")\n",
        "\n",
        "if __name__ == \"__main__\":\n",
        "    main()"
      ],
      "metadata": {
        "colab": {
          "base_uri": "https://localhost:8080/"
        },
        "id": "TCdFzNWuAP-P",
        "outputId": "83add13a-5d98-447c-b1e7-97a057449435"
      },
      "execution_count": null,
      "outputs": [
        {
          "output_type": "stream",
          "name": "stdout",
          "text": [
            "Results without concurrency: [8064, 10780, 1485, 8245, 9373, 1408, 1989, 220, 253, 4453]\n",
            "Time taken without concurrency: 7.128715515136719e-05 seconds\n"
          ]
        }
      ]
    },
    {
      "cell_type": "markdown",
      "source": [
        "Время выполнения будет увеличиваться с увеличением числа аргументов"
      ],
      "metadata": {
        "id": "x_zHIYe0T-fp"
      }
    },
    {
      "cell_type": "code",
      "source": [
        "#Несколько потоков\n",
        "import time\n",
        "import random\n",
        "from threading import Thread, Barrier\n",
        "\n",
        "def f(x, barrier, result):\n",
        "    result.append(x**2 + x * 2 + 10 * x)\n",
        "    barrier.wait()\n",
        "\n",
        "def main():\n",
        "    start_time = time.time()\n",
        "    values = [random.randint(1, 100) for _ in range(10)]\n",
        "    barrier = Barrier(len(values))\n",
        "    result = []\n",
        "\n",
        "    threads = [Thread(target=f, args=(x, barrier, result)) for x in values]\n",
        "    for t in threads:\n",
        "        t.start()\n",
        "    for t in threads:\n",
        "        t.join()\n",
        "\n",
        "    end_time = time.time()\n",
        "    print(\"Results with threads:\", result)\n",
        "    print(\"Time taken with threads:\", end_time - start_time, \"seconds\")\n",
        "\n",
        "if __name__ == \"__main__\":\n",
        "    main()"
      ],
      "metadata": {
        "colab": {
          "base_uri": "https://localhost:8080/"
        },
        "id": "KeInE5ljOk8-",
        "outputId": "8d4d4a00-79ff-45d4-8562-de9e9211c39c"
      },
      "execution_count": null,
      "outputs": [
        {
          "output_type": "stream",
          "name": "stdout",
          "text": [
            "Results with threads: [7020, 5005, 10165, 448, 9568, 9765, 9373, 1813, 3808, 4320]\n",
            "Time taken with threads: 0.010246992111206055 seconds\n"
          ]
        }
      ]
    },
    {
      "cell_type": "markdown",
      "source": [
        "Так как поток выполняется за раз, то они не дают особого преимущества в производительности"
      ],
      "metadata": {
        "id": "7_cYmOvHUTH2"
      }
    },
    {
      "cell_type": "code",
      "source": [
        "#Несколько процессов\n",
        "import time\n",
        "import random\n",
        "from multiprocessing import Process, Barrier\n",
        "\n",
        "def f(x, barrier, result):\n",
        "    result.append(x**2 + x * 2 + 10 * x)\n",
        "    barrier.wait()\n",
        "\n",
        "if __name__ == \"__main__\":\n",
        "    start_time = time.time()\n",
        "    values = [random.randint(1, 100) for _ in range(10)]\n",
        "    barrier = Barrier(len(values))\n",
        "    result = []\n",
        "\n",
        "    processes = [Process(target=f, args=(x, barrier, result)) for x in values]\n",
        "    for p in processes:\n",
        "        p.start()\n",
        "    for p in processes:\n",
        "        p.join()\n",
        "\n",
        "    end_time = time.time()\n",
        "    print(\"Results with processes:\", result)\n",
        "    print(\"Time taken with processes:\", end_time - start_time, \"seconds\")"
      ],
      "metadata": {
        "colab": {
          "base_uri": "https://localhost:8080/"
        },
        "id": "XBCltMUAOqkD",
        "outputId": "3a846cbd-71b1-4fe0-b741-8f112166a637"
      },
      "execution_count": null,
      "outputs": [
        {
          "output_type": "stream",
          "name": "stdout",
          "text": [
            "Results with processes: []\n",
            "Time taken with processes: 0.1182703971862793 seconds\n"
          ]
        }
      ]
    },
    {
      "cell_type": "markdown",
      "source": [
        "так как процессы используют несколько ядер, что сказывается на производительности"
      ],
      "metadata": {
        "id": "irqQT0BPUi2x"
      }
    },
    {
      "cell_type": "markdown",
      "source": [
        "# Упражнение 4."
      ],
      "metadata": {
        "id": "Xe72r5D_LbvW"
      }
    },
    {
      "cell_type": "markdown",
      "metadata": {
        "id": "NJyuM71kdhY1"
      },
      "source": [
        "**Упражнение 4.** Смоделируйте следующую ситуацию с использованием семафоров (и затем событий). То есть нужно два варианта: с семафорами и с событиями.\n",
        "\n",
        "1. Есть 5 касс и 20 покупателей. Все они хотят купить билеты на матч. На билетах не указаны места.\n",
        "\n",
        "2. После покупки билета покупатель бежит на стадион (у каждого разная скорость бега, это намек, что надо сделать sleep) и занимает свободное место.\n",
        "\n",
        "Программа должна вывести логированные события по типу:\n",
        "\n",
        "client 0, service time (ticket): 1.0004174709320068\n",
        "\n",
        "client 1, service time (ticket): 1.0005174709320068\n",
        "\n",
        "client 1, runnig time to stad:   1.2004174709320068\n",
        "\n",
        "client 0, runnig time to stad:   1.5004174709320068"
      ]
    },
    {
      "cell_type": "code",
      "source": [
        "import threading\n",
        "import time\n",
        "import random\n",
        "\n",
        "num_cashiers = 5\n",
        "num_clients = 20\n",
        "cashier_semaphore = threading.Semaphore(num_cashiers)\n",
        "\n",
        "def buy_ticket(client_id):\n",
        "    global cashier_semaphore\n",
        "    cashier_semaphore.acquire()\n",
        "    print(f\"client {client_id}, service time (ticket): {time.time()}\")\n",
        "    time.sleep(random.uniform(0.5, 1.5))  # время обслуживания клиента\n",
        "    cashier_semaphore.release()\n",
        "\n",
        "def go_to_stadium(client_id):\n",
        "    print(f\"client {client_id}, running time to stad: {time.time()}\")\n",
        "\n",
        "def client_action(client_id):\n",
        "    buy_ticket(client_id)\n",
        "    go_to_stadium(client_id)\n",
        "\n",
        "if __name__ == \"__main__\":\n",
        "    threads = []\n",
        "    for i in range(num_clients):\n",
        "        t = threading.Thread(target=client_action, args=(i,))\n",
        "        threads.append(t)\n",
        "        t.start()\n",
        "    for t in threads:\n",
        "        t.join()\n"
      ],
      "metadata": {
        "id": "MIBaHXDf20hW",
        "colab": {
          "base_uri": "https://localhost:8080/"
        },
        "outputId": "4faff75a-38fa-4480-e6d1-e2cebcd3504e"
      },
      "execution_count": null,
      "outputs": [
        {
          "output_type": "stream",
          "name": "stdout",
          "text": [
            "client 0, service time (ticket): 1709837487.6926653\n",
            "client 1, service time (ticket): 1709837487.69449\n",
            "client 2, service time (ticket): 1709837487.6955638\n",
            "client 3, service time (ticket): 1709837487.6969833\n",
            "client 4, service time (ticket): 1709837487.6978722\n",
            "client 4, running time to stad: 1709837488.5118492\n",
            "client 5, service time (ticket): 1709837488.5128956\n",
            "client 3, running time to stad: 1709837488.7314634\n",
            "client 6, service time (ticket): 1709837488.731825\n",
            "client 1, running time to stad: 1709837489.0082078client 7, service time (ticket): 1709837489.0083094\n",
            "\n",
            "client 2, running time to stad: 1709837489.0445123client 8, service time (ticket): 1709837489.0446277\n",
            "\n",
            "client 0, running time to stad: 1709837489.0925975client 9, service time (ticket): 1709837489.0927093\n",
            "\n",
            "client 5, running time to stad: 1709837489.2342234\n",
            "client 10, service time (ticket): 1709837489.2347093\n",
            "client 6, running time to stad: 1709837489.716757\n",
            "client 11, service time (ticket): 1709837489.7173088\n",
            "client 10, running time to stad: 1709837489.9220343\n",
            "client 12, service time (ticket): 1709837489.9223337\n",
            "client 9, running time to stad: 1709837489.9650342\n",
            "client 13, service time (ticket): 1709837489.9653206\n",
            "client 7, running time to stad: 1709837490.012388\n",
            "client 14, service time (ticket): 1709837490.0126576\n",
            "client 8, running time to stad: 1709837490.4558432\n",
            "client 15, service time (ticket): 1709837490.4561944\n",
            "client 12, running time to stad: 1709837490.4818006\n",
            "client 16, service time (ticket): 1709837490.4825902\n",
            "client 11, running time to stad: 1709837490.521011\n",
            "client 17, service time (ticket): 1709837490.5221317\n",
            "client 13, running time to stad: 1709837490.8750677\n",
            "client 18, service time (ticket): 1709837490.8755589\n",
            "client 14, running time to stad: 1709837490.9030488\n",
            "client 19, service time (ticket): 1709837490.9034214\n",
            "client 16, running time to stad: 1709837490.993026\n",
            "client 17, running time to stad: 1709837491.3260107\n",
            "client 15, running time to stad: 1709837491.361025\n",
            "client 18, running time to stad: 1709837492.2012563\n",
            "client 19, running time to stad: 1709837492.2462885\n"
          ]
        }
      ]
    },
    {
      "cell_type": "code",
      "source": [
        "import threading\n",
        "import time\n",
        "import random\n",
        "\n",
        "num_cashiers = 5\n",
        "num_clients = 20\n",
        "cashier_semaphore = threading.Semaphore(num_cashiers)\n",
        "\n",
        "def buy_ticket(client_id):\n",
        "    global cashier_semaphore\n",
        "    cashier_semaphore.acquire()\n",
        "    print(f\"client {client_id}, service time (ticket): {time.time()}\")\n",
        "    time.sleep(random.uniform(0.5, 1.5))  # время обслуживания клиента\n",
        "    cashier_semaphore.release()\n",
        "\n",
        "def go_to_stadium(client_id):\n",
        "    print(f\"client {client_id}, running time to stad: {time.time()}\")\n",
        "\n",
        "def client_action(client_id):\n",
        "    buy_ticket(client_id)\n",
        "    go_to_stadium(client_id)\n",
        "\n",
        "if __name__ == \"__main__\":\n",
        "    threads = []\n",
        "    for i in range(num_clients):\n",
        "        t = threading.Thread(target=client_action, args=(i,))\n",
        "        threads.append(t)\n",
        "        t.start()\n",
        "    for t in threads:\n",
        "        t.join()"
      ],
      "metadata": {
        "id": "cuzxtUDp3D6V",
        "colab": {
          "base_uri": "https://localhost:8080/"
        },
        "outputId": "ddf2e231-603c-4654-a0ff-6ee72036e60d"
      },
      "execution_count": null,
      "outputs": [
        {
          "output_type": "stream",
          "name": "stdout",
          "text": [
            "client 0, service time (ticket): 1709838843.8163457client 1, service time (ticket): 1709838843.817714\n",
            "\n",
            "client 2, service time (ticket): 1709838843.8194785\n",
            "client 3, service time (ticket): 1709838843.8206139client 4, service time (ticket): 1709838843.8212564\n",
            "\n",
            "client 2, running time to stad: 1709838844.5470347\n",
            "client 5, service time (ticket): 1709838844.548684\n",
            "client 0, running time to stad: 1709838844.654987\n",
            "client 6, service time (ticket): 1709838844.6552556\n",
            "client 3, running time to stad: 1709838845.0440392\n",
            "client 7, service time (ticket): 1709838845.0444012\n",
            "client 4, running time to stad: 1709838845.1420274\n",
            "client 8, service time (ticket): 1709838845.142503\n",
            "client 6, running time to stad: 1709838845.267558\n",
            "client 9, service time (ticket): 1709838845.2680447\n",
            "client 1, running time to stad: 1709838845.285031\n",
            "client 10, service time (ticket): 1709838845.2853851\n",
            "client 8, running time to stad: 1709838845.647895client 11, service time (ticket): 1709838845.648031\n",
            "\n",
            "client 5, running time to stad: 1709838845.8077016\n",
            "client 12, service time (ticket): 1709838845.8080103\n",
            "client 10, running time to stad: 1709838845.9905465\n",
            "client 13, service time (ticket): 1709838845.9910583\n",
            "client 9, running time to stad: 1709838846.0864558\n",
            "client 14, service time (ticket): 1709838846.08681\n",
            "client 7, running time to stad: 1709838846.4732153client 15, service time (ticket): 1709838846.4733243\n",
            "\n",
            "client 11, running time to stad: 1709838846.6734746\n",
            "client 16, service time (ticket): 1709838846.6737492\n",
            "client 12, running time to stad: 1709838846.8820407\n",
            "client 17, service time (ticket): 1709838846.882429\n",
            "client 13, running time to stad: 1709838846.9661672client 18, service time (ticket): 1709838846.9663076\n",
            "\n",
            "client 14, running time to stad: 1709838847.160984client 19, service time (ticket): 1709838847.1611204\n",
            "\n",
            "client 18, running time to stad: 1709838847.6796057\n",
            "client 15, running time to stad: 1709838847.720064\n",
            "client 16, running time to stad: 1709838848.0667999\n",
            "client 17, running time to stad: 1709838848.177834\n",
            "client 19, running time to stad: 1709838848.3570845\n"
          ]
        }
      ]
    },
    {
      "cell_type": "code",
      "source": [
        "import threading\n",
        "import time\n",
        "import random\n",
        "\n",
        "num_cashiers = 5\n",
        "num_clients = 20\n",
        "cashier_event = threading.Event()\n",
        "\n",
        "def buy_ticket(client_id):\n",
        "    global cashier_event\n",
        "    cashier_event.wait()\n",
        "    print(f\"client {client_id}, service time (ticket): {time.time()}\")\n",
        "    time.sleep(random.uniform(0.5, 1.5))  # время обслуживания клиента\n",
        "    cashier_event.set()\n",
        "\n",
        "def go_to_stadium(client_id):\n",
        "    print(f\"client {client_id}, running time to stad: {time.time()}\")\n",
        "\n",
        "def client_action(client_id):\n",
        "    buy_ticket(client_id)\n",
        "    go_to_stadium(client_id)\n",
        "\n",
        "if __name__ == \"__main__\":\n",
        "    threads = []\n",
        "    for i in range(num_clients):\n",
        "        t = threading.Thread(target=client_action, args=(i,))\n",
        "        threads.append(t)\n",
        "        t.start()\n",
        "        if (i+1) % num_cashiers == 0:\n",
        "            cashier_event.clear()\n",
        "    for t in threads:\n",
        "        t.join()"
      ],
      "metadata": {
        "id": "p9dGJixmTF9J"
      },
      "execution_count": null,
      "outputs": []
    },
    {
      "cell_type": "markdown",
      "metadata": {
        "id": "iftq-o1Cey43"
      },
      "source": [
        "# **Упражнение 5.** Покажите и опишите разничу между Semaphore и BoundedSemaphore."
      ]
    },
    {
      "cell_type": "code",
      "source": [
        "import threading\n",
        "import time\n",
        "\n",
        "def task(semaphore, thread_id):\n",
        "    semaphore.acquire()\n",
        "    print(f\"Thread {thread_id} is waiting\")\n",
        "    print(f\"Thread {thread_id} has acquired the semaphore\")\n",
        "    time.sleep(1)\n",
        "    print(f\"Thread {thread_id} is releasing the semaphore\")\n",
        "    semaphore.release()\n",
        "\n",
        "if __name__ == \"__main__\":\n",
        "    # Semaphore example\n",
        "    print(\"Semaphore\")\n",
        "    semaphore = threading.Semaphore(2)  # Максимум два потока могут получить семафор одновременно\n",
        "    threads = []\n",
        "    for i in range(4):\n",
        "        t = threading.Thread(target=task, args=(semaphore, i))\n",
        "        threads.append(t)\n",
        "        t.start()\n",
        "    for t in threads:\n",
        "        t.join()\n",
        "\n",
        "    # BoundedSemaphore example\n",
        "    print(\"BoundedSemaphore\")\n",
        "    bounded_semaphore = threading.BoundedSemaphore(2)  # Максимум два потока могут получить семафор одновременно\n",
        "    threads = []\n",
        "    for i in range(4):\n",
        "        t = threading.Thread(target=task, args=(bounded_semaphore, i))\n",
        "        threads.append(t)\n",
        "        t.start()\n",
        "    for t in threads:\n",
        "        t.join()\n"
      ],
      "metadata": {
        "id": "X-HDQ5M84OV8",
        "colab": {
          "base_uri": "https://localhost:8080/"
        },
        "outputId": "a49e469b-4683-4e6f-937b-1209a66567d9"
      },
      "execution_count": null,
      "outputs": [
        {
          "output_type": "stream",
          "name": "stdout",
          "text": [
            "Semaphore\n",
            "Thread 0 is waiting\n",
            "Thread 0 has acquired the semaphore\n",
            "Thread 1 is waiting\n",
            "Thread 1 has acquired the semaphore\n",
            "Thread 0 is releasing the semaphore\n",
            "Thread 2 is waiting\n",
            "Thread 2 has acquired the semaphore\n",
            "Thread 1 is releasing the semaphore\n",
            "Thread 3 is waiting\n",
            "Thread 3 has acquired the semaphore\n",
            "Thread 2 is releasing the semaphore\n",
            "Thread 3 is releasing the semaphore\n",
            "BoundedSemaphore\n",
            "Thread 0 is waiting\n",
            "Thread 0 has acquired the semaphore\n",
            "Thread 1 is waiting\n",
            "Thread 1 has acquired the semaphore\n",
            "Thread 0 is releasing the semaphore\n",
            "Thread 2 is waiting\n",
            "Thread 2 has acquired the semaphore\n",
            "Thread 1 is releasing the semaphore\n",
            "Thread 3 is waiting\n",
            "Thread 3 has acquired the semaphore\n",
            "Thread 2 is releasing the semaphore\n",
            "Thread 3 is releasing the semaphore\n"
          ]
        }
      ]
    },
    {
      "cell_type": "markdown",
      "source": [
        "Семафоры управляют атомарным счетчиком. Также метод .acquire() блокируется до тех пор, пока значения внутреннего счетчика не станет положительным. Если счетчик value не указан , значение по умолчанию равно 1.\n",
        "\n",
        "BoundedSemaphore реализует ограниченные объекты семафоров. Ограниченный семафор проверяет, не превышает ли его текущее значение его начальное значение. Если это так, то возникает исключение.\n",
        "\n",
        "В большинстве случаев семафоры используются для защиты ресурсов с ограниченной емкостью. Если семафор запускается слишком много раз, то это признак ошибки."
      ],
      "metadata": {
        "id": "-ttXyQfdMCix"
      }
    }
  ],
  "metadata": {
    "colab": {
      "provenance": [],
      "include_colab_link": true
    },
    "kernelspec": {
      "display_name": "Python 3 (ipykernel)",
      "language": "python",
      "name": "python3"
    },
    "language_info": {
      "codemirror_mode": {
        "name": "ipython",
        "version": 3
      },
      "file_extension": ".py",
      "mimetype": "text/x-python",
      "name": "python",
      "nbconvert_exporter": "python",
      "pygments_lexer": "ipython3",
      "version": "3.9.12"
    }
  },
  "nbformat": 4,
  "nbformat_minor": 0
}