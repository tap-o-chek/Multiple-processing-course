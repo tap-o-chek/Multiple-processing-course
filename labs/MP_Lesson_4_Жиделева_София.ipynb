{
  "cells": [
    {
      "cell_type": "markdown",
      "metadata": {
        "id": "view-in-github",
        "colab_type": "text"
      },
      "source": [
        "<a href=\"https://colab.research.google.com/github/tap-o-chek/Multiple-processing-course/blob/main/MP_Lesson_4_%D0%96%D0%B8%D0%B4%D0%B5%D0%BB%D0%B5%D0%B2%D0%B0_%D0%A1%D0%BE%D1%84%D0%B8%D1%8F.ipynb\" target=\"_parent\"><img src=\"https://colab.research.google.com/assets/colab-badge.svg\" alt=\"Open In Colab\"/></a>"
      ]
    },
    {
      "cell_type": "markdown",
      "metadata": {
        "id": "-3Pdn9L2qjFM"
      },
      "source": [
        "Использовать MRJob"
      ]
    },
    {
      "cell_type": "code",
      "execution_count": null,
      "metadata": {
        "colab": {
          "base_uri": "https://localhost:8080/"
        },
        "id": "ohIaDVFNuMDJ",
        "outputId": "89703ce7-2106-4e77-98e7-cd1672f6082e"
      },
      "outputs": [
        {
          "output_type": "stream",
          "name": "stdout",
          "text": [
            "Collecting mrjob\n",
            "  Downloading mrjob-0.7.4-py2.py3-none-any.whl (439 kB)\n",
            "\u001b[?25l     \u001b[90m━━━━━━━━━━━━━━━━━━━━━━━━━━━━━━━━━━━━━━━━\u001b[0m \u001b[32m0.0/439.6 kB\u001b[0m \u001b[31m?\u001b[0m eta \u001b[36m-:--:--\u001b[0m\r\u001b[2K     \u001b[91m━━━━━━━━━━━━━━━━━\u001b[0m\u001b[91m╸\u001b[0m\u001b[90m━━━━━━━━━━━━━━━━━━━━━━\u001b[0m \u001b[32m194.6/439.6 kB\u001b[0m \u001b[31m5.7 MB/s\u001b[0m eta \u001b[36m0:00:01\u001b[0m\r\u001b[2K     \u001b[90m━━━━━━━━━━━━━━━━━━━━━━━━━━━━━━━━━━━━━━━━\u001b[0m \u001b[32m439.6/439.6 kB\u001b[0m \u001b[31m6.6 MB/s\u001b[0m eta \u001b[36m0:00:00\u001b[0m\n",
            "\u001b[?25hRequirement already satisfied: PyYAML>=3.10 in /usr/local/lib/python3.10/dist-packages (from mrjob) (6.0.1)\n",
            "Installing collected packages: mrjob\n",
            "Successfully installed mrjob-0.7.4\n"
          ]
        }
      ],
      "source": [
        "!pip install mrjob"
      ]
    },
    {
      "cell_type": "markdown",
      "metadata": {
        "id": "DFQDy7jJsiFo"
      },
      "source": [
        "полезно почитать - https://coderlessons.com/tutorials/bolshie-dannye-i-analitika/izuchit-kartu-umenshit/mapreduce-kratkoe-rukovodstvo"
      ]
    },
    {
      "cell_type": "markdown",
      "metadata": {
        "id": "zDraPGe0rA5X"
      },
      "source": [
        "**Упражнение 1.**\n",
        "Дан файл с числами (несколько строк, на которых через пробел расположены числа). Посчитать сумму всех чисел в файле (построчно через MRJob).\n",
        "\n",
        "Пример:\n",
        "\n",
        "1 2 3\n",
        "\n",
        "4 5\n",
        "\n",
        "6\n",
        "\n",
        "Вывод:\n",
        "\n",
        "21"
      ]
    },
    {
      "cell_type": "code",
      "source": [
        "!python task1.py input_1.txt"
      ],
      "metadata": {
        "colab": {
          "base_uri": "https://localhost:8080/"
        },
        "id": "ek0pyhwELedv",
        "outputId": "1d0e8ede-65f2-4116-a1e0-8cb6c385c8b9"
      },
      "execution_count": null,
      "outputs": [
        {
          "output_type": "stream",
          "name": "stdout",
          "text": [
            "No configs found; falling back on auto-configuration\n",
            "No configs specified for inline runner\n",
            "Creating temp directory /tmp/task1.root.20240321.181952.337864\n",
            "Running step 1 of 1...\n",
            "job output is in /tmp/task1.root.20240321.181952.337864/output\n",
            "Streaming final output from /tmp/task1.root.20240321.181952.337864/output...\n",
            "null\t21\n",
            "Removing temp directory /tmp/task1.root.20240321.181952.337864...\n"
          ]
        }
      ]
    },
    {
      "cell_type": "markdown",
      "metadata": {
        "id": "crYQ80DORIUX"
      },
      "source": [
        "Содержимое файла\n",
        "```\n",
        "from mrjob.job import MRJob\n",
        "\n",
        "class MRSumNumbers(MRJob):\n",
        "\n",
        "    def mapper(self, _, line):\n",
        "        numbers = map(int, line.strip().split())\n",
        "        for number in numbers:\n",
        "            yield None, number # отправляем каждое число как ключ и его значение\n",
        "\n",
        "    def reducer(self, _, numbers):\n",
        "        total_sum = sum(numbers)\n",
        "        yield None, total_sum\n",
        "\n",
        "\n",
        "if __name__ == '__main__':\n",
        "    MRSumNumbers.run()\n",
        "```\n",
        "\n"
      ]
    },
    {
      "cell_type": "markdown",
      "metadata": {
        "id": "2wibRQQprQ0p"
      },
      "source": [
        "**Упражнение 2.**\n",
        "Дан файл с числами (несколько строк, на которых через пробел расположены числа). Посчитать сумму чисел в файле в каждой строке, а еще и их среднее (построчно через MRJob).\n",
        "\n",
        "Пример:\n",
        "\n",
        "1 2 3\n",
        "\n",
        "4 5\n",
        "\n",
        "6\n",
        "\n",
        "Вывод:\n",
        "\n",
        "6, 2\n",
        "\n",
        "9, 4.5\n",
        "\n",
        "6, 6"
      ]
    },
    {
      "cell_type": "code",
      "source": [
        "!python task2.py input_2.txt"
      ],
      "metadata": {
        "colab": {
          "base_uri": "https://localhost:8080/"
        },
        "id": "JVpudUPFLjri",
        "outputId": "c15bc6d8-7676-47d6-a796-8e7392bfff07"
      },
      "execution_count": null,
      "outputs": [
        {
          "output_type": "stream",
          "name": "stdout",
          "text": [
            "No configs found; falling back on auto-configuration\n",
            "No configs specified for inline runner\n",
            "Creating temp directory /tmp/task2.root.20240321.181952.754472\n",
            "Running step 1 of 1...\n",
            "job output is in /tmp/task2.root.20240321.181952.754472/output\n",
            "Streaming final output from /tmp/task2.root.20240321.181952.754472/output...\n",
            "6.0\t2.0\n",
            "9.0\t4.5\n",
            "6.0\t6.0\n",
            "Removing temp directory /tmp/task2.root.20240321.181952.754472...\n"
          ]
        }
      ]
    },
    {
      "cell_type": "markdown",
      "metadata": {
        "id": "oD4pZ4ExTNrJ"
      },
      "source": [
        "Содержимое файла\n",
        "```\n",
        "from mrjob.job import MRJob\n",
        "\n",
        "\n",
        "class MRSumAndAverage(MRJob):\n",
        "\n",
        "    def mapper(self, _, line):\n",
        "        numbers = list(map(float, line.split()))\n",
        "        yield None, (sum(numbers), len(numbers))\n",
        "\n",
        "    def reducer(self, _, values):\n",
        "        for summ, num_count in values:\n",
        "            average = summ / num_count\n",
        "            yield summ, average\n",
        "\n",
        "\n",
        "if __name__ == '__main__':\n",
        "    MRSumAndAverage.run()\n",
        "```\n",
        "\n"
      ]
    },
    {
      "cell_type": "markdown",
      "metadata": {
        "id": "w61rR9qytUKy"
      },
      "source": [
        "**Упражнение 3.**\n",
        "Дан файл со стоками, в каждой строке слова через пробел. Посчитать самую частую букву.\n",
        "\n",
        "Пример:\n",
        "\n",
        "aaa bb c\n",
        "\n",
        "aaa bb\n",
        "\n",
        "aaa\n",
        "\n",
        "Вывод:\n",
        "\n",
        "9 a"
      ]
    },
    {
      "cell_type": "code",
      "source": [
        "!python task3.py input_3.txt"
      ],
      "metadata": {
        "colab": {
          "base_uri": "https://localhost:8080/"
        },
        "id": "Mg5-RQ9kLlGO",
        "outputId": "a4d4e984-e88b-48df-be84-9fbdf42283ec"
      },
      "execution_count": null,
      "outputs": [
        {
          "output_type": "stream",
          "name": "stdout",
          "text": [
            "No configs found; falling back on auto-configuration\n",
            "No configs specified for inline runner\n",
            "Creating temp directory /tmp/task3.root.20240321.181953.371177\n",
            "Running step 1 of 2...\n",
            "Running step 2 of 2...\n",
            "job output is in /tmp/task3.root.20240321.181953.371177/output\n",
            "Streaming final output from /tmp/task3.root.20240321.181953.371177/output...\n",
            "9\t\"a\"\n",
            "Removing temp directory /tmp/task3.root.20240321.181953.371177...\n"
          ]
        }
      ]
    },
    {
      "cell_type": "markdown",
      "metadata": {
        "id": "P5firlcBYT0e"
      },
      "source": [
        "Содержимое файла\n",
        "```\n",
        "from mrjob.job import MRJob\n",
        "from mrjob.step import MRStep\n",
        "from collections import Counter\n",
        "import re\n",
        "\n",
        "class MostCommonLetter(MRJob):\n",
        "\n",
        "    def mapper(self, _, line):\n",
        "        letters = re.findall('[a-zA-Z]', line.lower())\n",
        "        for letter in letters:\n",
        "            yield letter, 1\n",
        "\n",
        "    def combiner(self, letter, counts):\n",
        "        yield letter, sum(counts)\n",
        "\n",
        "    def reducer(self, letter, counts):\n",
        "        yield None, (sum(counts), letter)\n",
        "\n",
        "    def second_reducer(self, _, counts):\n",
        "        most_common_count, most_common_letter = max(counts)\n",
        "        yield most_common_count, most_common_letter\n",
        "\n",
        "    def steps(self):\n",
        "        return [\n",
        "            MRStep(mapper=self.mapper,\n",
        "                   combiner=self.combiner,\n",
        "                   reducer=self.reducer),\n",
        "            MRStep(reducer=self.second_reducer)\n",
        "        ]\n",
        "\n",
        "if __name__ == '__main__':\n",
        "    MostCommonLetter.run()\n",
        "```\n",
        "\n"
      ]
    },
    {
      "cell_type": "markdown",
      "metadata": {
        "id": "urOkwmlBrhFr"
      },
      "source": [
        "**Упражнение 4.**\n",
        "Есть множество записей. Каждая запись содержит поле F и производное число категорий G={G1, G2,...}\n",
        "Посчитать общее число уникальных значений поля F для каждой категории.\n",
        "\n",
        "Пример:\n",
        "\n",
        "Record1: F = 1, G = {a, b}\n",
        "\n",
        "Record2: F = 2, G = {a, d, e}\n",
        "\n",
        "Record3: F = 1, G = {b}\n",
        "\n",
        "Record4: F = 13, G = {a, b}\n",
        "\n",
        "Result:\n",
        "\n",
        "a -> 3 // F =1, F=2, F=3\n",
        "\n",
        "b -> 2 // F =1, F=3\n",
        "\n",
        "d -> 1 // F =2\n",
        "\n",
        "e -> 1 // F =2"
      ]
    },
    {
      "cell_type": "code",
      "source": [
        "!python task4.py input_4.txt"
      ],
      "metadata": {
        "colab": {
          "base_uri": "https://localhost:8080/"
        },
        "id": "CXc7h4mqLmZV",
        "outputId": "27db531f-d766-4fe8-c27c-df74dbd673d0"
      },
      "execution_count": null,
      "outputs": [
        {
          "output_type": "stream",
          "name": "stdout",
          "text": [
            "Traceback (most recent call last):\n",
            "  File \"/content/task4.py\", line 38, in <module>\n",
            "    UniqueFCount.run()\n",
            "  File \"/usr/local/lib/python3.10/dist-packages/mrjob/job.py\", line 616, in run\n",
            "    cls().execute()\n",
            "  File \"/usr/local/lib/python3.10/dist-packages/mrjob/job.py\", line 687, in execute\n",
            "    self.run_job()\n",
            "  File \"/usr/local/lib/python3.10/dist-packages/mrjob/job.py\", line 634, in run_job\n",
            "    with self.make_runner() as runner:\n",
            "  File \"/usr/local/lib/python3.10/dist-packages/mrjob/job.py\", line 704, in make_runner\n",
            "    kwargs = self._runner_kwargs()\n",
            "  File \"/usr/local/lib/python3.10/dist-packages/mrjob/job.py\", line 734, in _runner_kwargs\n",
            "    kwargs = dict(steps=self._steps_desc(), **kwargs)\n",
            "  File \"/usr/local/lib/python3.10/dist-packages/mrjob/job.py\", line 916, in _steps_desc\n",
            "    for step_num, step in enumerate(self.steps()):\n",
            "  File \"/content/task4.py\", line 31, in steps\n",
            "    self.mr(mapper=self.mapper,\n",
            "AttributeError: 'UniqueFCount' object has no attribute 'mr'\n"
          ]
        }
      ]
    },
    {
      "cell_type": "markdown",
      "metadata": {
        "id": "K2KK1NY5bfuV"
      },
      "source": [
        "Содержимое файла\n",
        "```\n",
        "from mrjob.job import MRJob\n",
        "from mrjob.step import MRStep\n",
        "\n",
        "class UniqueFValuesByCategory(MRJob):\n",
        "\n",
        "    def mapper(self, _, line):\n",
        "        record = line.strip().split(\":\")\n",
        "        F = record[1].strip().split('=')[1]\n",
        "        categories = record[2].strip().split('=')[1].strip('{}').split(', ')\n",
        "        \n",
        "        for category in categories:\n",
        "            yield category, int(F)\n",
        "\n",
        "    def reducer(self, category, values):\n",
        "        unique_values = set(values)\n",
        "        yield category, (sum(values), sum(values) / len(values))\n",
        "\n",
        "if __name__ == '__main__':\n",
        "    UniqueFValuesByCategory.run()\n",
        "```\n",
        "\n"
      ]
    },
    {
      "cell_type": "markdown",
      "metadata": {
        "id": "dbO0vz57srVD"
      },
      "source": [
        "**Упражнение 5.**\n",
        "Есть множество кортежей объектов. Для каждой возможной пары объектов посчитать число картежей, где они встретились вместе. Если число объектов N, то N*N объектов будет обработано. Если N*N небольшое, то можно построить матрицу в памяти и реализация довольно простая."
      ]
    },
    {
      "cell_type": "code",
      "source": [
        "!python task5.py input_5.txt"
      ],
      "metadata": {
        "id": "yVj1ki8TLnVP",
        "colab": {
          "base_uri": "https://localhost:8080/"
        },
        "outputId": "d27e122f-f64a-400e-af27-7f6c747792c5"
      },
      "execution_count": null,
      "outputs": [
        {
          "output_type": "stream",
          "name": "stdout",
          "text": [
            "No configs found; falling back on auto-configuration\n",
            "No configs specified for inline runner\n",
            "Creating temp directory /tmp/task5.root.20240321.192643.059829\n",
            "Running step 1 of 1...\n",
            "job output is in /tmp/task5.root.20240321.192643.059829/output\n",
            "Streaming final output from /tmp/task5.root.20240321.192643.059829/output...\n",
            "[\"B\", \"D\"]\t3\n",
            "[\"C\", \"C\"]\t1\n",
            "[\"C\", \"D\"]\t3\n",
            "[\"D\", \"B\"]\t1\n",
            "[\"A\", \"B\"]\t3\n",
            "[\"A\", \"C\"]\t4\n",
            "[\"A\", \"D\"]\t3\n",
            "[\"B\", \"B\"]\t1\n",
            "[\"B\", \"C\"]\t3\n",
            "Removing temp directory /tmp/task5.root.20240321.192643.059829...\n"
          ]
        }
      ]
    },
    {
      "cell_type": "markdown",
      "metadata": {
        "id": "IE2XwDlHfpIe"
      },
      "source": [
        "Содержимое файла\n",
        "```\n",
        "from mrjob.job import MRJob\n",
        "from collections import defaultdict\n",
        "\n",
        "class MRCountTupleOccurrences(MRJob):\n",
        "    \n",
        "    def mapper(self, _, line):\n",
        "        tuple_elements = line.strip().split()\n",
        "        pairs = [(tuple_elements[i], tuple_elements[j]) for i in range(len(tuple_elements))\n",
        "                 for j in range(i+1, len(tuple_elements))]\n",
        "        for pair in pairs:\n",
        "            yield pair, 1\n",
        "\n",
        "    def reducer(self, pair, counts):\n",
        "        yield pair, sum(counts)\n",
        "\n",
        "if __name__ == '__main__':\n",
        "    MRCountTupleOccurrences.run()\n",
        "```\n",
        "\n"
      ]
    },
    {
      "cell_type": "markdown",
      "metadata": {
        "id": "oJaEc1mYtBGo"
      },
      "source": [
        "Подсказки к 4 и 5 тут - https://www.slideshare.net/Technopark/lecture-05-48215737"
      ]
    }
  ],
  "metadata": {
    "colab": {
      "provenance": [],
      "include_colab_link": true
    },
    "kernelspec": {
      "display_name": "Python 3 (ipykernel)",
      "language": "python",
      "name": "python3"
    },
    "language_info": {
      "codemirror_mode": {
        "name": "ipython",
        "version": 3
      },
      "file_extension": ".py",
      "mimetype": "text/x-python",
      "name": "python",
      "nbconvert_exporter": "python",
      "pygments_lexer": "ipython3",
      "version": "3.9.12"
    }
  },
  "nbformat": 4,
  "nbformat_minor": 0
}