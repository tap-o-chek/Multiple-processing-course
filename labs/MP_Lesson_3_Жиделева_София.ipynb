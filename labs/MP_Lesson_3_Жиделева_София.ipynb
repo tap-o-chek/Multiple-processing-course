{
  "nbformat": 4,
  "nbformat_minor": 0,
  "metadata": {
    "colab": {
      "provenance": [],
      "authorship_tag": "ABX9TyMaQiuAFK8Fb4dlao4pqU1G",
      "include_colab_link": true
    },
    "kernelspec": {
      "name": "python3",
      "display_name": "Python 3"
    },
    "language_info": {
      "name": "python"
    }
  },
  "cells": [
    {
      "cell_type": "markdown",
      "metadata": {
        "id": "view-in-github",
        "colab_type": "text"
      },
      "source": [
        "<a href=\"https://colab.research.google.com/github/tap-o-chek/Multiple-processing-course/blob/main/labs/MP_Lesson_3_%D0%96%D0%B8%D0%B4%D0%B5%D0%BB%D0%B5%D0%B2%D0%B0_%D0%A1%D0%BE%D1%84%D0%B8%D1%8F.ipynb\" target=\"_parent\"><img src=\"https://colab.research.google.com/assets/colab-badge.svg\" alt=\"Open In Colab\"/></a>"
      ]
    },
    {
      "cell_type": "markdown",
      "source": [
        "# Упражнение 1."
      ],
      "metadata": {
        "id": "2rp7GJHoCRIP"
      }
    },
    {
      "cell_type": "markdown",
      "metadata": {
        "id": "b-sHqXWsjhup"
      },
      "source": [
        "Упражнение 1. Напишите программу Hello World, которая выводит номер процесса и Hello World. Запустите с 10 процессами. Объясните результат (почему не по порядку, при разных запусках порядок различается). Обратите внимание на использование MPI."
      ]
    },
    {
      "cell_type": "code",
      "execution_count": null,
      "metadata": {
        "colab": {
          "base_uri": "https://localhost:8080/"
        },
        "id": "jZSbW1I4vugc",
        "outputId": "c3f203f8-4933-4386-ee6f-bac9bb4c0467"
      },
      "outputs": [
        {
          "output_type": "stream",
          "name": "stdout",
          "text": [
            "Collecting mpi4py\n",
            "  Downloading mpi4py-3.1.5.tar.gz (2.5 MB)\n",
            "\u001b[2K     \u001b[90m━━━━━━━━━━━━━━━━━━━━━━━━━━━━━━━━━━━━━━━━\u001b[0m \u001b[32m2.5/2.5 MB\u001b[0m \u001b[31m9.4 MB/s\u001b[0m eta \u001b[36m0:00:00\u001b[0m\n",
            "\u001b[?25h  Installing build dependencies ... \u001b[?25l\u001b[?25hdone\n",
            "  Getting requirements to build wheel ... \u001b[?25l\u001b[?25hdone\n",
            "  Preparing metadata (pyproject.toml) ... \u001b[?25l\u001b[?25hdone\n",
            "Building wheels for collected packages: mpi4py\n",
            "  Building wheel for mpi4py (pyproject.toml) ... \u001b[?25l\u001b[?25hdone\n",
            "  Created wheel for mpi4py: filename=mpi4py-3.1.5-cp310-cp310-linux_x86_64.whl size=2746512 sha256=1854a1013d20b339c7c214bced3005ed1c2f45025359b829e9e081f539be60f3\n",
            "  Stored in directory: /root/.cache/pip/wheels/18/2b/7f/c852523089e9182b45fca50ff56f49a51eeb6284fd25a66713\n",
            "Successfully built mpi4py\n",
            "Installing collected packages: mpi4py\n",
            "Successfully installed mpi4py-3.1.5\n"
          ]
        }
      ],
      "source": [
        "!pip install mpi4py"
      ]
    },
    {
      "cell_type": "code",
      "source": [
        "!mpiexec -n 10 --allow-run-as-root --oversubscribe python -m mpi4py /content/task1.py"
      ],
      "metadata": {
        "colab": {
          "base_uri": "https://localhost:8080/"
        },
        "outputId": "8f37149b-5286-41d5-b7f0-3c7913763f2e",
        "id": "OzDNfqyRewnj"
      },
      "execution_count": null,
      "outputs": [
        {
          "output_type": "stream",
          "name": "stdout",
          "text": [
            "Процесс 2: Hello World\n",
            "Процесс 0: Hello World\n",
            "Процесс 3: Hello World\n",
            "Процесс 4: Hello World\n",
            "Процесс 1: Hello World\n",
            "Процесс 9: Hello World\n",
            "Процесс 5: Hello World\n",
            "Процесс 6: Hello World\n",
            "Процесс 7: Hello World\n",
            "Процесс 8: Hello World\n"
          ]
        }
      ]
    },
    {
      "cell_type": "markdown",
      "source": [
        " Каждый процесс выполняется асинхронно и может завершиться в любой момент времени в зависимости от загрузки системы и других факторов"
      ],
      "metadata": {
        "id": "ziFvgFoPfFho"
      }
    },
    {
      "cell_type": "markdown",
      "source": [
        "#Упражнение 2."
      ],
      "metadata": {
        "id": "RmlrUxIXCTiW"
      }
    },
    {
      "cell_type": "markdown",
      "metadata": {
        "id": "VW-dwaq_kae5"
      },
      "source": [
        "Напишите программу MPI, которая определяет две переменные с плавающей точкой a и b. Используйте ранг:\n",
        "\n",
        "-- выведите a-b, если ранг равен 0\n",
        "\n",
        "-- выведите a+b, если ранг равен 1\n",
        "\n",
        "-- выведите a*b, если ранг равен 2\n",
        "\n",
        "Запустите программу и убедитесь, что она работает корректно."
      ]
    },
    {
      "cell_type": "code",
      "source": [
        "!mpiexec -n 3 --allow-run-as-root --oversubscribe python -m mpi4py /content/task2.py"
      ],
      "metadata": {
        "id": "dPPF_3qtz8sL",
        "colab": {
          "base_uri": "https://localhost:8080/"
        },
        "outputId": "96b8d50a-e53a-4cae-c0dd-e7740547cba3"
      },
      "execution_count": null,
      "outputs": [
        {
          "output_type": "stream",
          "name": "stdout",
          "text": [
            "a * b = 15.0\n",
            "a - b = 2.0\n",
            "a + b = 8.0\n"
          ]
        }
      ]
    },
    {
      "cell_type": "markdown",
      "source": [
        "# Упражнение 3."
      ],
      "metadata": {
        "id": "7wegz93lCWzw"
      }
    },
    {
      "cell_type": "markdown",
      "metadata": {
        "id": "EQsSefm1kaHN"
      },
      "source": [
        "Упражнение 3. Запустите код ниже, убедитесь в его работоспособности."
      ]
    },
    {
      "cell_type": "markdown",
      "metadata": {
        "id": "-_7T9y40k96s"
      },
      "source": [
        "Измените приведенный выше пример, чтобы он работал с любым количеством рангов. Соедините четные ранги с нечетными и пусть каждый четный ранг отправляет сообщение соответствующему нечетному рангу."
      ]
    },
    {
      "cell_type": "code",
      "source": [
        "!mpiexec -n 6 --allow-run-as-root --oversubscribe python -m mpi4py /content/task3.py"
      ],
      "metadata": {
        "id": "vZZ7LruQLlW5",
        "colab": {
          "base_uri": "https://localhost:8080/"
        },
        "outputId": "2b62f484-e8b8-4fc5-fa8e-1e0688b49bac"
      },
      "execution_count": null,
      "outputs": [
        {
          "output_type": "stream",
          "name": "stdout",
          "text": [
            "rank1 recieved a message Hello, world! from 0\n",
            "rank5 recieved a message Hello, world! from 4\n",
            "rank3 recieved a message Hello, world! from 2\n"
          ]
        }
      ]
    },
    {
      "cell_type": "markdown",
      "source": [
        "# Упражнение 4."
      ],
      "metadata": {
        "id": "gaE5-WKfCYvl"
      }
    },
    {
      "cell_type": "markdown",
      "metadata": {
        "id": "73zlRG0blFVc"
      },
      "source": [
        "Упражнение 4. Запустите этот код и посмотрите, что произойдет.\n",
        "Как бы вы изменили код, чтобы решить проблему?"
      ]
    },
    {
      "cell_type": "code",
      "execution_count": null,
      "metadata": {
        "id": "CnHFAscW4Vu9"
      },
      "outputs": [],
      "source": [
        "!mpiexec -n 2 --allow-run-as-root --oversubscribe python -m mpi4py /content/task4.py"
      ]
    },
    {
      "cell_type": "markdown",
      "source": [
        "# Упражнение 5."
      ],
      "metadata": {
        "id": "59XO6q0nCbaM"
      }
    },
    {
      "cell_type": "markdown",
      "metadata": {
        "id": "2Lkx2OqZltX5"
      },
      "source": [
        "В упр. 1 мы написали программу hello world, в которой каждый ранг отправляет сообщение рангу 0. Перепишите, используя gather."
      ]
    },
    {
      "cell_type": "code",
      "source": [
        "!mpiexec -n 10 --allow-run-as-root --oversubscribe python -m mpi4py /content/task1.py"
      ],
      "metadata": {
        "id": "7cUFkj79YTuk",
        "colab": {
          "base_uri": "https://localhost:8080/"
        },
        "outputId": "017bff02-bde8-4243-cbf2-4e0f12cd565f"
      },
      "execution_count": null,
      "outputs": [
        {
          "output_type": "stream",
          "name": "stdout",
          "text": [
            "Процесс 9: Hello World\n",
            "Процесс 0: Hello World\n",
            "Процесс 5: Hello World\n",
            "Процесс 7: Hello World\n",
            "Процесс 6: Hello World\n",
            "Процесс 1: Hello World\n",
            "Процесс 8: Hello World\n",
            "Процесс 3: Hello World\n",
            "Процесс 2: Hello World\n",
            "Процесс 4: Hello World\n"
          ]
        }
      ]
    },
    {
      "cell_type": "markdown",
      "source": [
        "# Упражнение 6."
      ],
      "metadata": {
        "id": "kN4MSa17Cc06"
      }
    },
    {
      "cell_type": "markdown",
      "metadata": {
        "id": "Tp3znkgPl4g8"
      },
      "source": [
        "Следующая программа создает массив с именем vector, который содержит список n_numbers для каждого ранга. Первый ранг содержит числа от 1 до n_numbers, второй ранг — от n_numbers до 2*n_numbers2 и так далее. Затем он вызывает функции find_max и find_sum, которые должны вычислить сумму и максимум вектора.\n",
        "Эти функции не реализуются параллельно и возвращают только сумму и максимум локальных векторов. Измените функции find_sum и find_max, чтобы они работали правильно параллельно, используя MPI_Reduce или MPI_Allreduce."
      ]
    },
    {
      "cell_type": "code",
      "execution_count": null,
      "metadata": {
        "id": "lqZEikvMmDEV",
        "colab": {
          "base_uri": "https://localhost:8080/"
        },
        "outputId": "c0ef4993-8f7f-4c73-f90a-fb90ae516414"
      },
      "outputs": [
        {
          "output_type": "stream",
          "name": "stdout",
          "text": [
            "The sum of the numbers is 2096128.0\n",
            "The largest number is 2047.0\n"
          ]
        }
      ],
      "source": [
        "!mpiexec -n 2 --allow-run-as-root --oversubscribe python -m mpi4py /content/task6.py"
      ]
    }
  ]
}