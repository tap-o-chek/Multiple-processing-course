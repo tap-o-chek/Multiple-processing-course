{
  "cells": [
    {
      "cell_type": "markdown",
      "metadata": {
        "id": "view-in-github",
        "colab_type": "text"
      },
      "source": [
        "<a href=\"https://colab.research.google.com/github/tap-o-chek/Multiple-processing-course/blob/main/labs/MP_Lesson_1_%D0%96%D0%B8%D0%B4%D0%B5%D0%BB%D0%B5%D0%B2%D0%B0_%D0%A1%D0%BE%D1%84%D0%B8%D1%8F.ipynb\" target=\"_parent\"><img src=\"https://colab.research.google.com/assets/colab-badge.svg\" alt=\"Open In Colab\"/></a>"
      ]
    },
    {
      "cell_type": "markdown",
      "metadata": {
        "id": "1NHMOil6azxL"
      },
      "source": [
        "**Упражнение 1.**\n",
        "\n",
        "Перед вами фрагмент кода, содержащего некоторую проблему. Всегда ли counter = 10 после запуска программы?"
      ]
    },
    {
      "cell_type": "code",
      "execution_count": null,
      "metadata": {
        "colab": {
          "base_uri": "https://localhost:8080/"
        },
        "id": "TxjKFX_rbBaU",
        "outputId": "0069bc92-c36a-445c-84ac-fa3b0257f3f7"
      },
      "outputs": [
        {
          "output_type": "stream",
          "name": "stdout",
          "text": [
            "1 2 3 4 5 6 7 8 9 10 10\n"
          ]
        }
      ],
      "source": [
        "import threading\n",
        "import sys\n",
        "\n",
        "def thread_job():\n",
        "    global counter\n",
        "    old_counter = counter\n",
        "    counter = old_counter + 1\n",
        "    print('{} '.format(counter), end='')\n",
        "    sys.stdout.flush()\n",
        "\n",
        "\n",
        "counter = 0\n",
        "threads = [threading.Thread(target=thread_job) for _ in range(10)]\n",
        "for thread in threads:\n",
        "    thread.start()\n",
        "for thread in threads:\n",
        "    thread.join()\n",
        "print(counter)"
      ]
    },
    {
      "cell_type": "markdown",
      "metadata": {
        "id": "QYaijEZwbH-r"
      },
      "source": [
        "Для наглядности продемонстрируем \"проблему\""
      ]
    },
    {
      "cell_type": "code",
      "execution_count": null,
      "metadata": {
        "colab": {
          "base_uri": "https://localhost:8080/"
        },
        "id": "pHor5lo3bByf",
        "outputId": "5170edde-8378-4c38-db4b-4607a20500b0"
      },
      "outputs": [
        {
          "output_type": "stream",
          "name": "stdout",
          "text": [
            "1 2 3 4 5 5 2 2 3 4 4\n"
          ]
        }
      ],
      "source": [
        "import threading\n",
        "import random\n",
        "import time\n",
        "import sys\n",
        "\n",
        "def thread_job():\n",
        "    global counter\n",
        "    old_counter = counter\n",
        "    time.sleep(random.randint(0, 1)) #задержка рандомной длительности\n",
        "    counter = old_counter + 1\n",
        "    print('{} '.format(counter), end='')\n",
        "    sys.stdout.flush()\n",
        "\n",
        "\n",
        "counter = 0\n",
        "threads = [threading.Thread(target=thread_job) for _ in range(10)]\n",
        "for thread in threads:\n",
        "    thread.start()\n",
        "for thread in threads:\n",
        "    thread.join()\n",
        "print(counter)"
      ]
    },
    {
      "cell_type": "markdown",
      "metadata": {
        "id": "4clHV29vbNly"
      },
      "source": [
        "**Объясните почему так происходит?**\n",
        "\n",
        "Этот код создает 10 потоков, каждый из которых выполняет одну функцию, которая инкрементирует глобальную переменную counter. Так как инкрементация counter происходит в нескольких потоках параллельно, возникает состязание за ресурс (гонка данных), что приводит к тому, что результат выполнения программы может быть непредсказуемым. В зависимости от того, какие потоки завершат свое выполнение первыми, и какие данные они прочитают в момент выполнения инкрементации, результат может быть разным, поэтому в решении мы накладываем локи, которые открывают доступ лишь одному потоку."
      ]
    },
    {
      "cell_type": "markdown",
      "metadata": {
        "id": "VU5ES-s0bQIh"
      },
      "source": [
        "**Исправьте проблему.**\n"
      ]
    },
    {
      "cell_type": "code",
      "execution_count": null,
      "metadata": {
        "id": "OFEwqZbTLygK",
        "colab": {
          "base_uri": "https://localhost:8080/"
        },
        "outputId": "1007e8d0-2251-40f7-eb5f-f5a10200dd54"
      },
      "outputs": [
        {
          "output_type": "stream",
          "name": "stdout",
          "text": [
            "1 2 3 4 5 6 7 8 9 10 10\n"
          ]
        }
      ],
      "source": [
        "import threading\n",
        "import random\n",
        "import time\n",
        "import sys\n",
        "\n",
        "def thread_job():\n",
        "    global counter\n",
        "    lock.acquire() # включаю блок\n",
        "    old_counter = counter\n",
        "    time.sleep(random.randint(0, 1)) # случайная задержка\n",
        "    counter = old_counter + 1\n",
        "    print('{} '.format(counter), end='')\n",
        "    lock.release() # снимаю блок\n",
        "    sys.stdout.flush()\n",
        "\n",
        "\n",
        "counter = 0\n",
        "lock = threading.Lock() # объект блокировки\n",
        "threads = [threading.Thread(target=thread_job) for _ in range(10)]\n",
        "for thread in threads:\n",
        "    thread.start()\n",
        "for thread in threads:\n",
        "    thread.join()\n",
        "print(counter)"
      ]
    },
    {
      "cell_type": "markdown",
      "metadata": {
        "id": "BuCnLYuMbTmq"
      },
      "source": [
        "**Упражнение 2.**\n",
        "\n",
        "Программист хочет узнать доступность набора ip адресов. Он реализовал программу. Почему она неэффективна? Переделайте с использованием threading. Измерить время с применением потоков и без них. Объяснить результат."
      ]
    },
    {
      "cell_type": "code",
      "execution_count": null,
      "metadata": {
        "id": "iZ5evZ6blYZo"
      },
      "outputs": [],
      "source": [
        "import os, re\n",
        "\n",
        "received_packages = re.compile(r\"(\\d) received\")\n",
        "\n",
        "def status(x):\n",
        "    if x == 0:\n",
        "        return \"no response\"\n",
        "    elif x == 1:\n",
        "        return \"losses\"\n",
        "    elif x == 2:\n",
        "        return \"alive\"\n",
        "\n",
        "time0 = time.time()\n",
        "\n",
        "for suffix in range(0, 100):\n",
        "    ip = \"192.168.178.\" + str(suffix)\n",
        "    ping_out = os.popen(\"ping -q -c2 \" + ip, \"r\")  # получение вердикта\n",
        "    #print(\"... pinging \", ip)\n",
        "    while True:\n",
        "        line = ping_out.readline()\n",
        "        if not line:\n",
        "            break\n",
        "        n_received = received_packages.findall(line)\n",
        "        #if n_received:\n",
        "    print(\"Status: \", ip, status(-1))\n",
        "\n",
        "print(f\"time: \", time.time() - time0)"
      ]
    },
    {
      "cell_type": "markdown",
      "metadata": {
        "id": "IvuAGiNw_9LK"
      },
      "source": [
        "**Объясните:**\n",
        "\n",
        "Проблема с текущей реализацией программы в том, что она выполняет пинг для каждого IP-адреса последовательно, что сильно замедляет процесс, особенно если множество адресов недоступно или имеет большую задержку. Чтобы сделать программу более эффективной, используем многопоточность для параллельного выполнения нескольких пингов.\n",
        "\n",
        "А ещё, сама пинговка не работает и файл не читается, поэтому прогнав программу, не получится узнать, сработало или нет. Но вроде должно работать -.-"
      ]
    },
    {
      "cell_type": "code",
      "source": [
        "import os, re\n",
        "import threading\n",
        "import time\n",
        "\n",
        "received_packages = re.compile(r\"(\\d) received\")\n",
        "\n",
        "def status(x):\n",
        "    if x == 0:\n",
        "        return \"no response\"\n",
        "    elif x == 1:\n",
        "        return \"losses\"\n",
        "    elif x == 2:\n",
        "        return \"alive\"\n",
        "\n",
        "time0 = time.time()\n",
        "#threads = [threading.Thread(target=status, args=(suffix,)) for _ in range(100)]\n",
        "threads = []  # создаем список для хранения потоков\n",
        "\n",
        "for suffix in range(0, 100):\n",
        "    ip = \"192.168.178.\" + str(suffix)\n",
        "    ping_out = os.popen(\"ping -q -c2 \" + ip, \"r\")  # получение вердикта\n",
        "    #print(\"... pinging \", ip)\n",
        "    while True:\n",
        "        line = ping_out.readline()\n",
        "        if not line:\n",
        "            break\n",
        "        n_received = received_packages.findall(line)  # смотрим, сколько пакетов получено\n",
        "        for _ in n_received:\n",
        "          thread = threading.Thread(target=status, args=(line,))  # для каждого пакета запускаем поток на вычисление статуса\n",
        "          thread.start()\n",
        "          threads.append(thread)  # добавляем поток в список\n",
        "        for thread in threads:\n",
        "          thread.join()  # Ожидаем завершения всех потоков\n",
        "    print(\"Status: \", ip, thread)\n",
        "\n",
        "print(f\"time: \", time.time() - time0)"
      ],
      "metadata": {
        "id": "81qu9C8RtoZ5"
      },
      "execution_count": null,
      "outputs": []
    },
    {
      "cell_type": "markdown",
      "metadata": {
        "id": "HpGKbeuabwEa"
      },
      "source": [
        "**Упражнение 3.**\n",
        "\n",
        "Составить программу, которая считает сумму элементов массива (создать из K значений и заполнить случайным образом) с использованием N потоков. Запустить с разным параметром N (2, 4, 8, 16, 32, 64). Объяснить результат (потребуется измерить время)."
      ]
    },
    {
      "cell_type": "code",
      "source": [
        "import threading\n",
        "import random\n",
        "import time\n",
        "\n",
        "def partial_sum(arr, start, end, result):\n",
        "    partial_sum = sum(arr[start:end])  # Вычисляем сумму элементов в части массива\n",
        "    result.append(partial_sum)  # Добавляем частичную сумму к общей сумме\n",
        "\n",
        "def sum_with_threads(N, K):\n",
        "\n",
        "    result = []  # хранение общей суммы\n",
        "    threads = [] # для N потоков\n",
        "\n",
        "    for i in range(N):\n",
        "        start = i * (K // N)  # начальный индекс для каждого потока\n",
        "        end = start + (K // N) if i != N - 1 else K  # конечный индекс для каждого потока (последний поток обрабатывает оставшуюся часть)\n",
        "        thread = threading.Thread(target=partial_sum, args=(arr, start, end, result))\n",
        "        thread.start()\n",
        "        threads.append(thread)\n",
        "\n",
        "    for thread in threads:\n",
        "        thread.join()\n",
        "\n",
        "    return sum(result) # суммируем элементы массива результата\n",
        "\n",
        "K = 100000  # размер массива\n",
        "arr = [random.randint(1, 100000) for _ in range(K)]  # массив из K случайных чисел\n",
        "\n",
        "for N in [2, 4, 8, 16, 32, 64]:\n",
        "    start_time = time.time()\n",
        "    total_sum = sum_with_threads(N, K)  # вычисляем сумму с использованием N потоков\n",
        "    end_time = time.time()\n",
        "    print(f\"Сумма с {N} потоками: {total_sum}\")\n",
        "    print(f\"Время: {end_time - start_time}\")\n",
        "    print()"
      ],
      "metadata": {
        "id": "objT47_9JNfK",
        "outputId": "2f6ed860-cb4f-4fc4-e85d-8f03b879e5bd",
        "colab": {
          "base_uri": "https://localhost:8080/"
        }
      },
      "execution_count": null,
      "outputs": [
        {
          "output_type": "stream",
          "name": "stdout",
          "text": [
            "Сумма с 2 потоками: 5007894889\n",
            "Время: 0.0026082992553710938\n",
            "\n",
            "Сумма с 4 потоками: 5007894889\n",
            "Время: 0.003667116165161133\n",
            "\n",
            "Сумма с 8 потоками: 5007894889\n",
            "Время: 0.0038433074951171875\n",
            "\n",
            "Сумма с 16 потоками: 5007894889\n",
            "Время: 0.0073888301849365234\n",
            "\n",
            "Сумма с 32 потоками: 5007894889\n",
            "Время: 0.008788824081420898\n",
            "\n",
            "Сумма с 64 потоками: 5007894889\n",
            "Время: 0.014769554138183594\n",
            "\n"
          ]
        }
      ]
    },
    {
      "cell_type": "markdown",
      "source": [
        "Каждый поток считает свою сумму для своего N паралелльно, поэтому выходит быстрее."
      ],
      "metadata": {
        "id": "THJBRGxrT4LV"
      }
    },
    {
      "cell_type": "markdown",
      "metadata": {
        "id": "H_9uv_OocG_e"
      },
      "source": [
        "**Упражнение 4.**\n",
        "\n",
        "Запустите на исполнение следующий фрагмент кода, замерив время работы. Перепишите с помощью потоков и опять замерьте время. Объясните результат."
      ]
    },
    {
      "cell_type": "code",
      "execution_count": null,
      "metadata": {
        "id": "6AlJ7e7zbcW3",
        "colab": {
          "base_uri": "https://localhost:8080/"
        },
        "outputId": "69a220bb-97f2-4849-ddd9-27e197e067f0"
      },
      "outputs": [
        {
          "output_type": "stream",
          "name": "stdout",
          "text": [
            "5.62566065788269\n"
          ]
        }
      ],
      "source": [
        "import urllib.request\n",
        "import time\n",
        "\n",
        "\n",
        "urls = [\n",
        "    'https://www.yandex.ru', 'https://www.google.com',\n",
        "    'https://habrahabr.ru', 'https://www.python.org',\n",
        "    'https://isocpp.org',\n",
        "]\n",
        "\n",
        "\n",
        "def read_url(url):\n",
        "    with urllib.request.urlopen(url) as u:\n",
        "        return u.read()\n",
        "\n",
        "\n",
        "start = time.time()\n",
        "for url in urls:\n",
        "    read_url(url)\n",
        "print(time.time() - start)"
      ]
    },
    {
      "cell_type": "code",
      "source": [
        "import urllib.request\n",
        "import time\n",
        "import threading\n",
        "\n",
        "urls = [\n",
        "    'https://www.yandex.ru', 'https://www.google.com',\n",
        "    'https://habrahabr.ru', 'https://www.python.org',\n",
        "    'https://isocpp.org',\n",
        "]\n",
        "\n",
        "def read_url(url):\n",
        "    with urllib.request.urlopen(url) as u:\n",
        "        return u.read()\n",
        "\n",
        "\n",
        "start = time.time()\n",
        "threads = []\n",
        "\n",
        "for url in urls:\n",
        "    thread = threading.Thread(target=read_url, args=(url,))\n",
        "    thread.start()\n",
        "    threads.append(thread)\n",
        "for thread in threads:\n",
        "    thread.join()\n",
        "\n",
        "print(time.time() - start)"
      ],
      "metadata": {
        "colab": {
          "base_uri": "https://localhost:8080/"
        },
        "id": "8jGMlVEMya1m",
        "outputId": "31b4aa2d-f941-46b8-fefa-c90e441b7449"
      },
      "execution_count": null,
      "outputs": [
        {
          "output_type": "stream",
          "name": "stdout",
          "text": [
            "3.89656138420105\n"
          ]
        }
      ]
    },
    {
      "cell_type": "markdown",
      "source": [
        "время изначального кода: 5.62566065788269\n",
        "\n",
        "время моего варианта с потоками: 3.89656138420105"
      ],
      "metadata": {
        "id": "9ugiUdZfapCY"
      }
    },
    {
      "cell_type": "markdown",
      "metadata": {
        "id": "amwNdaOZcX_Y"
      },
      "source": [
        "**Упражнение 5.**\n",
        "\n",
        "Составить программу, которая имеет общие ресурсы для нескольких потоков. Например, есть общая переменная, один поток добавляет 1, второй увеличивает значение в 2 раза. Написать с использованием Lock. Продемонстрировать проблему взаимной блокировки. Исправить её, написав код с использованием RLock блокировки."
      ]
    },
    {
      "cell_type": "code",
      "source": [
        "import threading\n",
        "\n",
        "def add_one():\n",
        "  global resource\n",
        "  for _ in range(10):\n",
        "    with lock:\n",
        "      resource += 1\n",
        "      print(f\"resource +1 = {resource}\")\n",
        "\n",
        "def add_two():\n",
        "  global resource\n",
        "  for _ in range(10):\n",
        "    with lock:\n",
        "      resource += 2\n",
        "      print(f\"resource +2 = {resource}\")\n",
        "\n",
        "\n",
        "def start_calc():\n",
        "  with lock:\n",
        "    add_one()\n",
        "    add_two()\n",
        "\n",
        "resource = 0 #заданный ресурс/переменная\n",
        "lock = threading.Lock()\n",
        "\n",
        "thread1 = threading.Thread(target=start_calc)\n",
        "thread2 = threading.Thread(target=start_calc)\n",
        "\n",
        "thread1.start()\n",
        "thread2.start()\n",
        "\n",
        "thread1.join()\n",
        "thread2.join()\n",
        "\n",
        "print(f\"Final: {resource}\")"
      ],
      "metadata": {
        "id": "XMubldzugm4N"
      },
      "execution_count": null,
      "outputs": []
    },
    {
      "cell_type": "markdown",
      "source": [
        "Lock не знает, какой поток блокируется в данный момент и долго грузит/стоит"
      ],
      "metadata": {
        "id": "9I7YcIxmVPy8"
      }
    },
    {
      "cell_type": "code",
      "source": [
        "import threading\n",
        "\n",
        "def add_one():\n",
        "  global resource\n",
        "  for _ in range(10):\n",
        "    with rlock:\n",
        "      resource += 1\n",
        "      print(f\"resource +1 = \", resource)\n",
        "\n",
        "def add_two():\n",
        "  global resource\n",
        "  for _ in range(10):\n",
        "    with rlock:\n",
        "      resource += 2\n",
        "      print(f\"resource +2 = \", resource)\n",
        "\n",
        "\n",
        "def start_calc():\n",
        "  with rlock:\n",
        "    add_one()\n",
        "    add_two()\n",
        "\n",
        "resource = 0 #заданный ресурс/переменная\n",
        "rlock = threading.RLock() # lock поменяли на rlock\n",
        "thread1 = threading.Thread(target=start_calc)\n",
        "thread2 = threading.Thread(target=start_calc)\n",
        "\n",
        "thread1.start()\n",
        "thread2.start()\n",
        "\n",
        "thread1.join()\n",
        "thread2.join()\n",
        "\n",
        "print(f\"Final: {resource}\")"
      ],
      "metadata": {
        "colab": {
          "base_uri": "https://localhost:8080/"
        },
        "id": "zcD8eB_Z55Nl",
        "outputId": "ba612f97-8690-47c0-9b57-f535d6e797df"
      },
      "execution_count": null,
      "outputs": [
        {
          "output_type": "stream",
          "name": "stdout",
          "text": [
            "resource +1 =  1\n",
            "resource +1 =  2\n",
            "resource +1 =  3\n",
            "resource +1 =  4\n",
            "resource +1 =  5\n",
            "resource +1 =  6\n",
            "resource +1 =  7\n",
            "resource +1 =  8\n",
            "resource +1 =  9\n",
            "resource +1 =  10\n",
            "resource +2 =  12\n",
            "resource +2 =  14\n",
            "resource +2 =  16\n",
            "resource +2 =  18\n",
            "resource +2 =  20\n",
            "resource +2 =  22\n",
            "resource +2 =  24\n",
            "resource +2 =  26\n",
            "resource +2 =  28\n",
            "resource +2 =  30\n",
            "resource +1 =  31\n",
            "resource +1 =  32\n",
            "resource +1 =  33\n",
            "resource +1 =  34\n",
            "resource +1 =  35\n",
            "resource +1 =  36\n",
            "resource +1 =  37\n",
            "resource +1 =  38\n",
            "resource +1 =  39\n",
            "resource +1 =  40\n",
            "resource +2 =  42\n",
            "resource +2 =  44\n",
            "resource +2 =  46\n",
            "resource +2 =  48\n",
            "resource +2 =  50\n",
            "resource +2 =  52\n",
            "resource +2 =  54\n",
            "resource +2 =  56\n",
            "resource +2 =  58\n",
            "resource +2 =  60\n",
            "Final: 60\n"
          ]
        }
      ]
    }
  ],
  "metadata": {
    "colab": {
      "provenance": [],
      "include_colab_link": true
    },
    "kernelspec": {
      "display_name": "Python 3 (ipykernel)",
      "language": "python",
      "name": "python3"
    },
    "language_info": {
      "codemirror_mode": {
        "name": "ipython",
        "version": 3
      },
      "file_extension": ".py",
      "mimetype": "text/x-python",
      "name": "python",
      "nbconvert_exporter": "python",
      "pygments_lexer": "ipython3",
      "version": "3.9.12"
    }
  },
  "nbformat": 4,
  "nbformat_minor": 0
}