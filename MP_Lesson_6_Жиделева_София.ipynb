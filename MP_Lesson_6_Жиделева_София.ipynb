{
  "nbformat": 4,
  "nbformat_minor": 0,
  "metadata": {
    "colab": {
      "provenance": [],
      "include_colab_link": true
    },
    "kernelspec": {
      "name": "python3",
      "display_name": "Python 3"
    },
    "language_info": {
      "name": "python"
    }
  },
  "cells": [
    {
      "cell_type": "markdown",
      "metadata": {
        "id": "view-in-github",
        "colab_type": "text"
      },
      "source": [
        "<a href=\"https://colab.research.google.com/github/tap-o-chek/Multiple-processing-course/blob/main/MP_Lesson_6_%D0%96%D0%B8%D0%B4%D0%B5%D0%BB%D0%B5%D0%B2%D0%B0_%D0%A1%D0%BE%D1%84%D0%B8%D1%8F.ipynb\" target=\"_parent\"><img src=\"https://colab.research.google.com/assets/colab-badge.svg\" alt=\"Open In Colab\"/></a>"
      ]
    },
    {
      "cell_type": "markdown",
      "source": [
        "# **Упражнение 1.** Распараллелить код с помощью dask.delayed. Оцените время работы кода до и после распараллеливания. Объясните результат."
      ],
      "metadata": {
        "id": "pnfqwkxMd7e3"
      }
    },
    {
      "cell_type": "code",
      "source": [
        "from time import sleep\n",
        "\n",
        "def inc(x):\n",
        "    sleep(1)\n",
        "    return x + 1\n",
        "\n",
        "def add(x, y):\n",
        "    sleep(1)\n",
        "    return x + y\n",
        "\n",
        "%time\n",
        "x = inc(1)\n",
        "y = inc(2)\n",
        "z = add(x, y)"
      ],
      "metadata": {
        "colab": {
          "base_uri": "https://localhost:8080/"
        },
        "id": "-ECI1xlCd7Gu",
        "outputId": "d5a34e1e-fdbc-4cdf-d6c2-6d8bc796dac8"
      },
      "execution_count": null,
      "outputs": [
        {
          "output_type": "stream",
          "name": "stdout",
          "text": [
            "CPU times: user 3 µs, sys: 1e+03 ns, total: 4 µs\n",
            "Wall time: 6.91 µs\n"
          ]
        }
      ]
    },
    {
      "cell_type": "code",
      "source": [
        "import dask\n",
        "from time import sleep\n",
        "\n",
        "def inc(x):\n",
        "    sleep(1)\n",
        "    return x + 1\n",
        "\n",
        "def add(x, y):\n",
        "    sleep(1)\n",
        "    return x + y\n",
        "\n",
        "x = dask.delayed(inc)(1)\n",
        "y = dask.delayed(inc)(2)\n",
        "z = dask.delayed(add)(x, y)\n",
        "\n",
        "%time z.compute()"
      ],
      "metadata": {
        "colab": {
          "base_uri": "https://localhost:8080/"
        },
        "id": "dVPZasztDsZB",
        "outputId": "0aeea329-9b69-480b-adc9-3fdeff1d745e"
      },
      "execution_count": null,
      "outputs": [
        {
          "output_type": "stream",
          "name": "stdout",
          "text": [
            "CPU times: user 418 ms, sys: 40.7 ms, total: 459 ms\n",
            "Wall time: 2.55 s\n"
          ]
        },
        {
          "output_type": "execute_result",
          "data": {
            "text/plain": [
              "5"
            ]
          },
          "metadata": {},
          "execution_count": 2
        }
      ]
    },
    {
      "cell_type": "markdown",
      "source": [
        "Объяснение: распараллеливание позволяет эффективнее использовать ресурсы процессора и сокращает общее время выполнения задач."
      ],
      "metadata": {
        "id": "dM1Zh16F8uFv"
      }
    },
    {
      "cell_type": "markdown",
      "source": [
        "# **Упражнение 2.**\n",
        "Распараллелить код с помощью dask.delayed. Оцените время работы кода до и после распараллеливания. Объясните результат."
      ],
      "metadata": {
        "id": "5ex-0AkxeZ-H"
      }
    },
    {
      "cell_type": "code",
      "source": [
        "%time\n",
        "def double(x):\n",
        "    sleep(1)\n",
        "    return 2 * x\n",
        "\n",
        "def is_even(x):\n",
        "    return not x % 2\n",
        "\n",
        "data = [1, 2, 3, 4, 5, 6, 7, 8, 9, 10]\n",
        "\n",
        "results = []\n",
        "for x in data:\n",
        "    if is_even(x):\n",
        "        y = double(x)\n",
        "    else:\n",
        "        y = inc(x)\n",
        "    results.append(y)\n",
        "\n",
        "total = sum(results)\n",
        "print(total)"
      ],
      "metadata": {
        "colab": {
          "base_uri": "https://localhost:8080/"
        },
        "id": "b5lMybIyd-lP",
        "outputId": "775c3d28-550e-42cb-e01b-3e7c6f3cf15d"
      },
      "execution_count": null,
      "outputs": [
        {
          "output_type": "stream",
          "name": "stdout",
          "text": [
            "CPU times: user 4 µs, sys: 1e+03 ns, total: 5 µs\n",
            "Wall time: 7.63 µs\n",
            "90\n"
          ]
        }
      ]
    },
    {
      "cell_type": "code",
      "source": [
        "import dask\n",
        "from time import sleep, time\n",
        "\n",
        "def double(x):\n",
        "    sleep(1)\n",
        "    return 2 * x\n",
        "\n",
        "def is_even(x):\n",
        "    return not x % 2\n",
        "\n",
        "data = [1, 2, 3, 4, 5, 6, 7, 8, 9, 10]\n",
        "\n",
        "start_time = time()\n",
        "\n",
        "results = []\n",
        "for x in data:\n",
        "    if is_even(x):\n",
        "        y = dask.delayed(double)(x)  # Задержка вызова функции double\n",
        "    else:\n",
        "        y = dask.delayed(inc)(x)     # Задержка вызова функции inc\n",
        "    results.append(y)\n",
        "\n",
        "total = dask.delayed(sum)(results)   # Задержка вычисления суммы\n",
        "print(total.compute())\n",
        "\n",
        "end_time = time()\n",
        "wall_time = end_time - start_time\n",
        "print(\"Wall time:\", wall_time)"
      ],
      "metadata": {
        "colab": {
          "base_uri": "https://localhost:8080/"
        },
        "id": "sUNwc-2vEBba",
        "outputId": "76caa219-c862-4161-8195-b470dd712297"
      },
      "execution_count": null,
      "outputs": [
        {
          "output_type": "stream",
          "name": "stdout",
          "text": [
            "90\n",
            "Wall time: 5.030089855194092\n"
          ]
        }
      ]
    },
    {
      "cell_type": "markdown",
      "source": [
        "Объяснение: распараллеливание позволяет эффективнее использовать ресурсы процессора и сокращает общее время выполнения задач."
      ],
      "metadata": {
        "id": "lQBJZGlcBCl0"
      }
    },
    {
      "cell_type": "markdown",
      "source": [
        "# **Упражнение 3.** Использовать dask.bag.\n",
        "\n",
        "Мы будем использовать пакет Dask для расчета частот последовательностей по пять символов, а затем сортировать последовательности в порядке убывания частоты встреч.\n",
        "\n",
        "Реализуйте функцию group_characters(line, n=5) для группировки строки по n символов и возврата итератора. Строка — это текстовая строка в файле genome.txt.  (сгенерировать самостоятельно)"
      ],
      "metadata": {
        "id": "bU3jS6Ltgp_S"
      }
    },
    {
      "cell_type": "code",
      "source": [
        "# >>> line = \"abcdefghijklmno\"\n",
        "# >>> for seq in group_character(line, 5):\n",
        "#         print(seq)\n",
        "\n",
        "# \"abcde\"\n",
        "# \"efghi\"\n",
        "# \"klmno\""
      ],
      "metadata": {
        "id": "5ZF6KZ94euNo"
      },
      "execution_count": null,
      "outputs": []
    },
    {
      "cell_type": "markdown",
      "source": [
        "Реализовать group_and_split(line)"
      ],
      "metadata": {
        "id": "oaR0aRtYhn6z"
      }
    },
    {
      "cell_type": "code",
      "source": [
        "# >>> group_and_split('abcdefghijklmno')\n",
        "# ['abcde', 'fghij', 'klmno']"
      ],
      "metadata": {
        "id": "10_HlaPghi26"
      },
      "execution_count": null,
      "outputs": []
    },
    {
      "cell_type": "markdown",
      "source": [
        "Использовать dask.bag для вычисления частот встреч групп символов по 5 и отсортировать по ней."
      ],
      "metadata": {
        "id": "sST6lDgnhu4G"
      }
    },
    {
      "cell_type": "code",
      "source": [
        "from dask import bag as db\n",
        "\n",
        "def group_characters(line, n=5):\n",
        "    return (line[i:i+n] for i in range(0, len(line), n))\n",
        "\n",
        "line = \"abcdefghijklmno\"\n",
        "for seq in group_characters(line, 5):\n",
        "    print(seq)"
      ],
      "metadata": {
        "colab": {
          "base_uri": "https://localhost:8080/"
        },
        "id": "UuKqV2ClEeRj",
        "outputId": "e447c591-1d5b-45e0-850b-7c63ca8d95da"
      },
      "execution_count": null,
      "outputs": [
        {
          "output_type": "stream",
          "name": "stdout",
          "text": [
            "abcde\n",
            "fghij\n",
            "klmno\n"
          ]
        }
      ]
    },
    {
      "cell_type": "code",
      "source": [
        "# генерация строки в genome.txt\n",
        "import random\n",
        "import string\n",
        "\n",
        "def generate_random_string(length):\n",
        "    return ''.join(random.choices(string.ascii_letters + string.digits, k=length))\n",
        "\n",
        "random_string = generate_random_string(100)\n",
        "\n",
        "file_name = \"genome.txt\"\n",
        "with open(file_name, \"w\") as file:\n",
        "    file.write(random_string)"
      ],
      "metadata": {
        "id": "Z2RqmMTK9qYR"
      },
      "execution_count": null,
      "outputs": []
    },
    {
      "cell_type": "code",
      "source": [
        "from dask import bag as db\n",
        "\n",
        "def group_characters(line, n=5):\n",
        "    return (line[i:i+n] for i in range(0, len(line), n))\n",
        "\n",
        "file_path = \"genome.txt\"\n",
        "lines_bag = db.read_text(file_path)\n",
        "\n",
        "sequences_bag = lines_bag.map(group_characters)\n",
        "flattened_bag = sequences_bag.flatten()\n",
        "frequency_bag = flattened_bag.frequencies()\n",
        "\n",
        "# Сортировка по убыванию частоты и берем первые 10\n",
        "sorted_sequences = frequency_bag.topk(10, key=lambda x: x[1]).compute()\n",
        "\n",
        "print(sorted_sequences)"
      ],
      "metadata": {
        "colab": {
          "base_uri": "https://localhost:8080/"
        },
        "id": "C303MxDzEsta",
        "outputId": "4c792c4b-95ce-4650-94fc-9850cd3a977b"
      },
      "execution_count": null,
      "outputs": [
        {
          "output_type": "stream",
          "name": "stdout",
          "text": [
            "[('P8aIZ', 1), ('ADb6h', 1), ('EOZZ7', 1), ('tJMRh', 1), ('UV21l', 1), ('P3F9g', 1), ('igTWX', 1), ('wNRE5', 1), ('2ypyc', 1), ('bFIU3', 1)]\n"
          ]
        }
      ]
    },
    {
      "cell_type": "markdown",
      "source": [
        "# **Упражнение 4.** Использовать dask.array\n",
        "\n",
        "Вычислите сумму, произведение и среднее значение двумерного квадратного массива (сгенерировать случайно) из 1_000_000 элементов в каждом измерении.\n",
        "\n",
        "1) с помощью dask (определить самостоятельно разбиение на блоки)\n",
        "\n",
        "2) без dask\n",
        "\n",
        "Измерить время"
      ],
      "metadata": {
        "id": "vbz05xgriKOd"
      }
    },
    {
      "cell_type": "code",
      "source": [
        "# Вариант с dask\n",
        "import dask.array as da\n",
        "import numpy as np\n",
        "import time\n",
        "\n",
        "# Генерируем случайный двумерный массив из 1_000_000 элементов в каждом измерении\n",
        "np_array = np.random.rand(1000, 1000)\n",
        "\n",
        "# Используем dask.array для создания dask массива\n",
        "dask_array = da.from_array(np_array, chunks=(100, 100))\n",
        "\n",
        "start_time = time.time()\n",
        "\n",
        "# Вычисляем сумму, произведение и среднее значение\n",
        "sum_dask = dask_array.sum().compute()\n",
        "prod_dask = dask_array.prod().compute()\n",
        "mean_dask = dask_array.mean().compute()\n",
        "\n",
        "dask_time = time.time() - start_time\n",
        "\n",
        "print(\"Dask:\")\n",
        "print(\"Sum:\", sum_dask)\n",
        "print(\"Product:\", prod_dask)\n",
        "print(\"Mean:\", mean_dask)\n",
        "print(\"Time:\", dask_time)"
      ],
      "metadata": {
        "colab": {
          "base_uri": "https://localhost:8080/"
        },
        "id": "AeaLK5dFvigw",
        "outputId": "d85c3947-72a7-45ba-f2ac-7c7497f9728d"
      },
      "execution_count": null,
      "outputs": [
        {
          "output_type": "stream",
          "name": "stdout",
          "text": [
            "Dask:\n",
            "Sum: 500415.5843750101\n",
            "Product: 0.0\n",
            "Mean: 0.5004155843750101\n",
            "Time: 0.13397431373596191\n"
          ]
        }
      ]
    },
    {
      "cell_type": "code",
      "source": [
        "# Без использования dask\n",
        "start_time = time.time()\n",
        "\n",
        "# Вычисляем сумму, произведение и среднее значение\n",
        "sum_np = np_array.sum()\n",
        "prod_np = np_array.prod()\n",
        "mean_np = np_array.mean()\n",
        "\n",
        "np_time = time.time() - start_time\n",
        "\n",
        "print(\"\\nWithout Dask:\")\n",
        "print(\"Sum:\", sum_np)\n",
        "print(\"Product:\", prod_np)\n",
        "print(\"Mean:\", mean_np)\n",
        "print(\"Time:\", np_time)"
      ],
      "metadata": {
        "colab": {
          "base_uri": "https://localhost:8080/"
        },
        "id": "jYzYnPArvn6j",
        "outputId": "5816bc35-d699-45f5-abe2-eca17c9b67fa"
      },
      "execution_count": null,
      "outputs": [
        {
          "output_type": "stream",
          "name": "stdout",
          "text": [
            "\n",
            "Without Dask:\n",
            "Sum: 500415.58437501005\n",
            "Product: 0.0\n",
            "Mean: 0.50041558437501\n",
            "Time: 0.004935503005981445\n"
          ]
        }
      ]
    },
    {
      "cell_type": "markdown",
      "source": [
        "# **Упражнение 5.**\n",
        "\n",
        "Постройте массив 20000x20000 нормально распределенных случайных значений (random), разбитых на фрагменты размером 1000x1000\n",
        "Возьмите среднее по одной оси\n",
        "Возьмите каждый 100-й элемент\n",
        "\n",
        "Сделайте задание в двух вариантах:\n",
        "\n",
        "1) dask\n",
        "\n",
        "2) numpy\n",
        "\n",
        "Измерите время и объясните результат."
      ],
      "metadata": {
        "id": "eCr1670Yi57g"
      }
    },
    {
      "cell_type": "code",
      "source": [
        "# Вариант с dask\n",
        "import dask.array as da\n",
        "import dask\n",
        "\n",
        "# Генерируем dask массив нормально распределенных случайных значений\n",
        "dask_array = da.random.normal(size=(20000, 20000),\n",
        "                              chunks=(1000, 1000))\n",
        "\n",
        "axis_mean_dask = dask_array.mean(axis=1)\n",
        "\n",
        "every_100th_element_dask = axis_mean_dask[::100]\n",
        "\n",
        "start_time = time.time()\n",
        "\n",
        "print(\"Dask:\")\n",
        "print(\"Shape of every_100th_element:\", every_100th_element_dask.compute().shape)\n",
        "print(\"Time:\", time.time() - start_time)"
      ],
      "metadata": {
        "colab": {
          "base_uri": "https://localhost:8080/"
        },
        "id": "kCT41iV-wETH",
        "outputId": "69e4dcf4-5a1b-4467-e4fa-a32cb349ca0b"
      },
      "execution_count": null,
      "outputs": [
        {
          "output_type": "stream",
          "name": "stdout",
          "text": [
            "Dask:\n",
            "Shape of every_100th_element: (200,)\n",
            "Time: 11.44222378730774\n"
          ]
        }
      ]
    },
    {
      "cell_type": "code",
      "source": [
        "# Вариант с numpy\n",
        "import numpy as np\n",
        "import time\n",
        "\n",
        "np_array = np.random.randn(20000, 20000)\n",
        "\n",
        "axis_mean = np_array.mean(axis=1)\n",
        "\n",
        "every_100th_element = axis_mean[::100]\n",
        "\n",
        "start_time = time.time()\n",
        "\n",
        "print(\"NumPy:\")\n",
        "print(\"Shape of every_100th_element:\", every_100th_element.shape)\n",
        "print(\"Time:\", time.time() - start_time)"
      ],
      "metadata": {
        "id": "w7KiyhzUhrD6",
        "colab": {
          "base_uri": "https://localhost:8080/"
        },
        "outputId": "ef837f0e-bf33-4712-cc90-728bf851d730"
      },
      "execution_count": null,
      "outputs": [
        {
          "output_type": "stream",
          "name": "stdout",
          "text": [
            "NumPy:\n",
            "Shape of every_100th_element: (200,)\n",
            "Time: 0.0017724037170410156\n"
          ]
        }
      ]
    },
    {
      "cell_type": "markdown",
      "source": [
        "Объяснение: Время выполнения варианта с NumPy значительно меньше по сравнению с вариантом с Dask. Это происходит из-за того, что NumPy оперирует с массивом данных, хранящимся в памяти, и выполняет все операции на одном процессе. то есть, время выполнения ограничено только скоростью доступа к памяти и вычислительной мощности процессора.\n",
        "\n",
        "Dask же автоматически разбивает массив данных на блоки и распределяет вычисления по нескольким процессорам или даже узлам кластера. В этом примере, хотя и выполняется простая операция - взятие среднего и выбор каждого 100-го элемента, Dask всё равно тратит больше времени на организацию параллельных вычислений, взаимодействие с блоками данных и сбор результатов."
      ],
      "metadata": {
        "id": "azZh6JIhC5fA"
      }
    }
  ]
}