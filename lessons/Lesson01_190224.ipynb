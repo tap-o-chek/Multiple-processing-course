{
  "nbformat": 4,
  "nbformat_minor": 0,
  "metadata": {
    "colab": {
      "provenance": [],
      "include_colab_link": true
    },
    "kernelspec": {
      "name": "python3",
      "display_name": "Python 3"
    },
    "language_info": {
      "name": "python"
    }
  },
  "cells": [
    {
      "cell_type": "markdown",
      "metadata": {
        "id": "view-in-github",
        "colab_type": "text"
      },
      "source": [
        "<a href=\"https://colab.research.google.com/github/tap-o-chek/parallel-processing-of-information/blob/main/Lesson01_190224.ipynb\" target=\"_parent\"><img src=\"https://colab.research.google.com/assets/colab-badge.svg\" alt=\"Open In Colab\"/></a>"
      ]
    },
    {
      "cell_type": "code",
      "execution_count": null,
      "metadata": {
        "id": "XOB_gD90PWLG"
      },
      "outputs": [],
      "source": []
    },
    {
      "cell_type": "markdown",
      "source": [
        "Оитог = Среднее из домашних работ\n",
        "Окурсовая"
      ],
      "metadata": {
        "id": "ixsuB5-KQDrn"
      }
    },
    {
      "cell_type": "code",
      "source": [
        "x = 10\n",
        "y = 20\n",
        "z = x + y"
      ],
      "metadata": {
        "id": "q3DFqIAIQKkX"
      },
      "execution_count": null,
      "outputs": []
    },
    {
      "cell_type": "markdown",
      "source": [
        "Процесс и поток"
      ],
      "metadata": {
        "id": "9s8xVwczQxak"
      }
    },
    {
      "cell_type": "markdown",
      "source": [
        "I|O\n",
        "CPU"
      ],
      "metadata": {
        "id": "8CDPukDCSFVi"
      }
    },
    {
      "cell_type": "code",
      "source": [
        "from time import sleep, perf_counter\n",
        "\n",
        "def task():\n",
        "  print('start')\n",
        "  sleep(1)\n",
        "  print('end')\n",
        "\n",
        "start = perf_counter()\n",
        "task()\n",
        "task()\n",
        "end = perf_counter()\n",
        "print(end - start)"
      ],
      "metadata": {
        "colab": {
          "base_uri": "https://localhost:8080/"
        },
        "id": "T0Fhd3SJQw9g",
        "outputId": "3bc293b9-ceb3-4319-e19f-ab25f7d47b20"
      },
      "execution_count": null,
      "outputs": [
        {
          "output_type": "stream",
          "name": "stdout",
          "text": [
            "start\n",
            "end\n",
            "start\n",
            "end\n",
            "2.0021585229999346\n"
          ]
        }
      ]
    },
    {
      "cell_type": "code",
      "source": [
        "def task():\n",
        "  print('start')\n",
        "  sleep(1)\n",
        "  print('end')\n",
        "\n",
        "from threading import Thread\n",
        "\n",
        "new_thread_1 = Thread(target = task)\n",
        "new_thread_2 = Thread(target = task)\n",
        "start = perf_counter()\n",
        "new_thread_1.start()\n",
        "new_thread_2.start()\n",
        "new_thread_1.join()\n",
        "new_thread_2.join()\n",
        "end = perf_counter()\n",
        "print(end - start)"
      ],
      "metadata": {
        "colab": {
          "base_uri": "https://localhost:8080/"
        },
        "id": "soNJltnBTECX",
        "outputId": "bfbffdf7-e4e4-4831-897c-fe21bb93e9e2"
      },
      "execution_count": null,
      "outputs": [
        {
          "output_type": "stream",
          "name": "stdout",
          "text": [
            "start\n",
            "start\n",
            "end\n",
            "end\n",
            "1.0039029019999361\n"
          ]
        }
      ]
    },
    {
      "cell_type": "code",
      "source": [
        "def task2(id):\n",
        "    print(f'start - {id}')\n",
        "    sleep(0.1)\n",
        "    print(f'end - {id}')\n",
        "\n",
        "start = perf_counter()\n",
        "threads = []\n",
        "\n",
        "for n in range(1, 11):\n",
        "    t = Thread(target = task2, args = (n, ))\n",
        "    threads.append(t)\n",
        "    t.start()\n",
        "#     t.join()\n",
        "\n",
        "for t in threads:\n",
        "    t.join()\n",
        "\n",
        "end = perf_counter()\n",
        "print(end - start)"
      ],
      "metadata": {
        "colab": {
          "base_uri": "https://localhost:8080/"
        },
        "id": "uJCRgREwSDPc",
        "outputId": "67126e9d-4fce-4fca-b14a-0e8b5d039748"
      },
      "execution_count": null,
      "outputs": [
        {
          "output_type": "stream",
          "name": "stdout",
          "text": [
            "start - 1\n",
            "start - 2start - 3\n",
            "\n",
            "start - 4\n",
            "start - 5\n",
            "start - 6\n",
            "start - 7\n",
            "start - 8\n",
            "start - 9\n",
            "start - 10\n",
            "end - 1\n",
            "end - 2\n",
            "end - 3\n",
            "end - 4\n",
            "end - 5\n",
            "end - 6\n",
            "end - 8\n",
            "end - 7\n",
            "end - 9\n",
            "end - 10\n",
            "0.11163601600014772\n"
          ]
        }
      ]
    },
    {
      "cell_type": "code",
      "source": [
        "def replace(filename, s1, s2):\n",
        "    print(f'processing {filename}')\n",
        "    with open(filename, 'r') as file:\n",
        "        content = file.read()\n",
        "    # sleep(1)\n",
        "    content = content.replace(s1, s2)\n",
        "\n",
        "    with open(filename, 'w') as file:\n",
        "        file.write(content)"
      ],
      "metadata": {
        "id": "8ZOdL58GVefv"
      },
      "execution_count": null,
      "outputs": []
    },
    {
      "cell_type": "code",
      "source": [
        "filenames = ['1.txt','2.txt','3.txt','4.txt']\n",
        "start = perf_counter()\n",
        "\n",
        "for file in filenames:\n",
        "    replace(file, '29', '100')\n",
        "\n",
        "end = perf_counter()\n",
        "print(end - start)"
      ],
      "metadata": {
        "colab": {
          "base_uri": "https://localhost:8080/"
        },
        "id": "6-QNe6EaXDzu",
        "outputId": "8431ddf5-78c9-4b5c-fa4d-bcf2b6eb3bcb"
      },
      "execution_count": null,
      "outputs": [
        {
          "output_type": "stream",
          "name": "stdout",
          "text": [
            "processing 1.txt\n",
            "processing 2.txt\n",
            "processing 3.txt\n",
            "processing 4.txt\n",
            "0.0036897169998155732\n"
          ]
        }
      ]
    },
    {
      "cell_type": "code",
      "source": [
        "filenames = ['1.txt','2.txt','3.txt','4.txt']\n",
        "start = perf_counter()\n",
        "\n",
        "threads = [Thread(target = replace, args=(file, '29', '100')) for file in filenames]\n",
        "\n",
        "for thread in threads:\n",
        "    thread.start()\n",
        "\n",
        "for thread in threads:\n",
        "    thread.join()\n",
        "\n",
        "end = perf_counter()\n",
        "print(end - start)"
      ],
      "metadata": {
        "colab": {
          "base_uri": "https://localhost:8080/"
        },
        "id": "3Zr8tRc3XLgD",
        "outputId": "b0e8fd65-6f2d-432c-db71-069af862c53f"
      },
      "execution_count": null,
      "outputs": [
        {
          "output_type": "stream",
          "name": "stdout",
          "text": [
            "processing 1.txt\n",
            "processing 2.txt\n",
            "processing 3.txt\n",
            "processing 4.txt\n",
            "0.006380602999797702\n"
          ]
        }
      ]
    },
    {
      "cell_type": "markdown",
      "source": [
        "потоки демоны"
      ],
      "metadata": {
        "id": "2lVA2H1nYjLg"
      }
    },
    {
      "cell_type": "code",
      "source": [
        "t = Thread(target = task, deamon = True)"
      ],
      "metadata": {
        "id": "ZXncxROfXdzy"
      },
      "execution_count": null,
      "outputs": []
    },
    {
      "cell_type": "code",
      "source": [
        "from threading import Thread\n",
        "import time\n",
        "def show_timer():\n",
        "    count = 0\n",
        "    while True:\n",
        "        count += 1\n",
        "        time.sleep(1)\n",
        "        print(f'spent {count}')\n",
        "t = Thread(target = show_timer)\n",
        "t.start()\n",
        "\n",
        "answer = input('yes or no')"
      ],
      "metadata": {
        "colab": {
          "base_uri": "https://localhost:8080/"
        },
        "id": "C9rAA63RY6yR",
        "outputId": "5c5fe744-75b5-4c1e-c21d-281d0dfa24f8"
      },
      "execution_count": null,
      "outputs": [
        {
          "output_type": "stream",
          "name": "stdout",
          "text": [
            "spent 41\n",
            "spent 20\n",
            "spent 1\n",
            "yes or noy\n",
            "spent 42\n",
            "spent 21\n"
          ]
        }
      ]
    },
    {
      "cell_type": "code",
      "source": [
        "from threading import Thread\n",
        "import time\n",
        "def show_timer():\n",
        "    count = 0\n",
        "    while True:\n",
        "        count += 1\n",
        "        time.sleep(1)\n",
        "        print(f'spent {count}')\n",
        "t = Thread(target = show_timer, daemon = True)\n",
        "t.start()\n",
        "\n",
        "answer = input('yes or no')"
      ],
      "metadata": {
        "colab": {
          "base_uri": "https://localhost:8080/"
        },
        "id": "MZJvGoUnZVHz",
        "outputId": "01f052ba-fe0b-4268-a2a0-c9fe5d945da1"
      },
      "execution_count": null,
      "outputs": [
        {
          "name": "stdout",
          "output_type": "stream",
          "text": [
            "spent 1\n",
            "spent 2\n",
            "spent 3\n",
            "spent 4\n",
            "spent 5\n",
            "spent 6\n",
            "spent 7\n",
            "yes or noyes\n"
          ]
        }
      ]
    },
    {
      "cell_type": "code",
      "source": [
        "print(1)"
      ],
      "metadata": {
        "id": "_RQpHIetZoUc"
      },
      "execution_count": null,
      "outputs": []
    },
    {
      "cell_type": "code",
      "source": [
        "from queue import Queue\n",
        "\n",
        "queue = Queue(maxsize = 2)\n",
        "# queue.put(10, block = False)\n",
        "try:\n",
        "    queue.put(10, block = False)\n",
        "    queue.put(10, block = False)\n",
        "    queue.put(10, block = False)\n",
        "except:\n",
        "    print(\"exception\")\n",
        "print(queue.get(block = False, timeout = 10))"
      ],
      "metadata": {
        "colab": {
          "base_uri": "https://localhost:8080/"
        },
        "id": "s8SKmBB_Zpi4",
        "outputId": "c1a904ac-5ed9-4c0e-d5c0-eb64667de6da"
      },
      "execution_count": null,
      "outputs": [
        {
          "output_type": "stream",
          "name": "stdout",
          "text": [
            "spent 481\n",
            "spent 460\n",
            "exception\n",
            "10\n"
          ]
        }
      ]
    },
    {
      "cell_type": "code",
      "source": [],
      "metadata": {
        "id": "DcitF60wcJiC"
      },
      "execution_count": null,
      "outputs": []
    },
    {
      "cell_type": "code",
      "source": [],
      "metadata": {
        "id": "kaOM-c5ZcKSk"
      },
      "execution_count": null,
      "outputs": []
    },
    {
      "cell_type": "code",
      "source": [
        "# 1 [1] 2 [1, 2] 3 [1, 2, 3]"
      ],
      "metadata": {
        "id": "GKRbGCdSbKjN"
      },
      "execution_count": null,
      "outputs": []
    },
    {
      "cell_type": "code",
      "source": [
        "import time\n",
        "from queue import Empty, Queue\n",
        "from threading import Thread\n",
        "\n",
        "\n",
        "def producer(queue):\n",
        "    for i in range(1, 6):\n",
        "        print(f'Вставляем элемент {i} в очередь')\n",
        "        time.sleep(1)\n",
        "        queue.put(i)\n",
        "\n",
        "\n",
        "def consumer(queue):\n",
        "    while True:\n",
        "        try:\n",
        "            item = queue.get()\n",
        "        except Empty:\n",
        "            continue\n",
        "        else:\n",
        "            print(f'Обрабатываем элемент {item}')\n",
        "            time.sleep(2)\n",
        "            queue.task_done()\n",
        "\n",
        "\n",
        "def main():\n",
        "    queue = Queue()\n",
        "\n",
        "    # создаем поток-производитель и запускаем его\n",
        "    producer_thread = Thread(\n",
        "        target=producer,\n",
        "        args=(queue,)\n",
        "    )\n",
        "    producer_thread.start()\n",
        "\n",
        "    # создаем поток-потребитель и запускаем его\n",
        "    consumer_thread = Thread(\n",
        "        target=consumer,\n",
        "        args=(queue,),\n",
        "        daemon=True\n",
        "    )\n",
        "    consumer_thread.start()\n",
        "\n",
        "    # дожидаемся, пока все задачи добавятся в очередь\n",
        "    producer_thread.join()\n",
        "\n",
        "    # дожидаемся, пока все задачи в очереди будут завершены\n",
        "    queue.join()\n",
        "\n",
        "\n",
        "if __name__ == '__main__':\n",
        "    main()"
      ],
      "metadata": {
        "colab": {
          "base_uri": "https://localhost:8080/"
        },
        "id": "wXTQD4LpcLb0",
        "outputId": "0d4f7b7d-04f7-4e38-d8fa-2b273984eed5"
      },
      "execution_count": null,
      "outputs": [
        {
          "output_type": "stream",
          "name": "stdout",
          "text": [
            "Вставляем элемент 1 в очередь\n",
            "Вставляем элемент 2 в очередь\n",
            "Обрабатываем элемент 1\n",
            "Вставляем элемент 3 в очередь\n",
            "Вставляем элемент 4 в очередь\n",
            "Обрабатываем элемент 2\n",
            "Вставляем элемент 5 в очередь\n",
            "Обрабатываем элемент 3\n",
            "Обрабатываем элемент 4\n",
            "Обрабатываем элемент 5\n"
          ]
        }
      ]
    },
    {
      "cell_type": "code",
      "source": [
        "from threading import Thread, Lock\n",
        "from time import sleep\n",
        "counter = 0\n",
        "def increase(by):\n",
        "    global counter\n",
        "    lock.acquire()\n",
        "    local_counter = counter\n",
        "    local_counter += by\n",
        "    sleep(0.0000001)\n",
        "    counter = local_counter\n",
        "    print(f'Значение counter: {counter}')\n",
        "    lock.release()\n",
        "lock = Lock()\n",
        "# создаем потоки\n",
        "t1 = Thread(target=increase, args=(10,))\n",
        "t2 = Thread(target=increase, args=(20,))\n",
        "# запускаем потоки\n",
        "t1.start()\n",
        "t2.start()\n",
        "# ждем завершения потоков\n",
        "t1.join()\n",
        "t2.join()\n",
        "print(f'Значение counter в итоге: {counter}')"
      ],
      "metadata": {
        "colab": {
          "base_uri": "https://localhost:8080/"
        },
        "id": "xngf9D4EcYV7",
        "outputId": "0de4320f-577b-46fa-fc89-bfd317a2d2d2"
      },
      "execution_count": null,
      "outputs": [
        {
          "output_type": "stream",
          "name": "stdout",
          "text": [
            "Значение counter: 10\n",
            "Значение counter: 30\n",
            "Значение counter в итоге: 30\n"
          ]
        }
      ]
    },
    {
      "cell_type": "code",
      "source": [],
      "metadata": {
        "id": "Ha-NqCd6eQxX"
      },
      "execution_count": null,
      "outputs": []
    }
  ]
}